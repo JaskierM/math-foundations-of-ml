{
 "cells": [
  {
   "cell_type": "markdown",
   "id": "5d96058a-d06c-44c1-96e8-d50af48acec6",
   "metadata": {
    "tags": []
   },
   "source": [
    "# ДЗ №3. Ансамбли (50 баллов)"
   ]
  },
  {
   "cell_type": "markdown",
   "id": "951ac7e3-bdd4-480c-a3c9-b18e3fae1840",
   "metadata": {},
   "source": [
    "В этом домашнем задании нужно реализовать алгоритм Random Forest и реализовать методы ансамблирования Stacking и Blending. "
   ]
  },
  {
   "cell_type": "markdown",
   "id": "357fbf52-952a-467f-b1a1-603392b2ce84",
   "metadata": {},
   "source": [
    "## Данные"
   ]
  },
  {
   "cell_type": "markdown",
   "id": "efe9a8bc-20ef-4f72-8aba-0b71920da365",
   "metadata": {},
   "source": [
    "Вы будете работать с [датасетом Spaceship Titanic](https://www.kaggle.com/competitions/spaceship-titanic/data).\n",
    "* Если у вас нет возможности зарегестрироваться на Kaggle, то данные лежат [тут](https://drive.google.com/file/d/16SJ4FeqMIsfzqpbcm82Yl8F6MU7MODr9/view?usp=drive_link).\n",
    "\n",
    "* _Если вы используете данные с диска, то сами сформируйте train/val/test выборку_\n",
    "\n",
    "\n",
    "Предобработайте данные как мы делали в папке [Работа с признаками](https://github.com/runnerup96/SBT-machine-learning-seminars/tree/main/Работа%20с%20признаками) - заполните пропущенные данные, обработайте редкие значения, закодируйте категориальные признаки, создайте и отберите признаки."
   ]
  },
  {
   "cell_type": "markdown",
   "id": "2d531aef-9ee1-4989-9bd6-b80746c0689d",
   "metadata": {},
   "source": [
    "## 1 Preliminaries"
   ]
  },
  {
   "cell_type": "markdown",
   "id": "1bc5c9a2-3bf1-42df-95d6-8a9bac3276a6",
   "metadata": {},
   "source": [
    "## 1.1 Imports and Configurations"
   ]
  },
  {
   "cell_type": "code",
   "execution_count": 1,
   "id": "4583b124-5c9a-4689-92ee-76a19441624a",
   "metadata": {},
   "outputs": [],
   "source": [
    "import warnings\n",
    "import random\n",
    "import numpy as np\n",
    "import pandas as pd\n",
    "import matplotlib.pyplot as plt\n",
    "import seaborn as sns\n",
    "import optuna\n",
    "\n",
    "from tqdm import tqdm\n",
    "from pathlib import Path\n",
    "from ydata_profiling import ProfileReport\n",
    "from scipy import stats\n",
    "from sklearn.impute import KNNImputer\n",
    "from sklearn.feature_selection import mutual_info_regression\n",
    "from sklearn.pipeline import Pipeline\n",
    "from sklearn.compose import ColumnTransformer\n",
    "from sklearn.preprocessing import StandardScaler, QuantileTransformer, OneHotEncoder, TargetEncoder\n",
    "from sklearn.model_selection import train_test_split, cross_val_score, StratifiedKFold\n",
    "from sklearn.metrics import f1_score\n",
    "from sklearn.tree import DecisionTreeClassifier\n",
    "from sklearn.ensemble import RandomForestClassifier\n",
    "from sklearn.linear_model import LogisticRegression\n",
    "from sklearn.svm import SVC\n",
    "from sklearn.naive_bayes import MultinomialNB\n",
    "from xgboost import XGBClassifier\n",
    "from PIL import Image\n",
    "from IPython.display import display"
   ]
  },
  {
   "cell_type": "markdown",
   "id": "5528016c-81c3-4cc7-90d9-626e93cdc63e",
   "metadata": {},
   "source": [
    "### Constants"
   ]
  },
  {
   "cell_type": "code",
   "execution_count": 3,
   "id": "ce82aadd-455c-4c8a-a37c-a10a133e8798",
   "metadata": {},
   "outputs": [],
   "source": [
    "# 1 Preliminaries\n",
    "\n",
    "RANDOM_STATE = 42\n",
    "\n",
    "TRAIN_PATH = Path('../data/raw/train.csv')\n",
    "TEST_PATH = Path('../data/raw/test.csv')\n",
    "REPORTS_DIR = Path('../reports/')\n",
    "REPORTS_DIR.mkdir(exist_ok=True)\n",
    "SUBMISSIONS_PATH = Path('../data/final/')\n",
    "\n",
    "FEATURES_WITH_NUM_NA = ['Age', 'RoomService', 'FoodCourt', 'ShoppingMall', 'Spa', 'VRDeck']\n",
    "FEATURES_WITH_CAT_NA = ['HomePlanet', 'CryoSleep', 'Cabin', 'Destination', 'VIP', 'Name']\n",
    "FEATURE_OUTLIER_THRESHOLDS = {\n",
    "    'RoomService': {'upper': 3000},\n",
    "    'FoodCourt': {'upper': 5000},\n",
    "    'ShoppingMall': {'upper': 4000},\n",
    "    'Spa': {'upper': 5000},\n",
    "    'VRDeck': {'upper': 5000},\n",
    "}\n",
    "FEATURES_CAT = ['PassengerId', 'missingindicator_Name', 'missingindicator_Age', \n",
    "                'missingindicator_RoomService', 'missingindicator_FoodCourt', 'missingindicator_ShoppingMall', \n",
    "                'missingindicator_Spa', 'missingindicator_VRDeck', 'HomePlanet', 'CryoSleep', 'Cabin', 'Destination', \n",
    "                'VIP', 'Name', 'missingindicator_HomePlanet', 'missingindicator_CryoSleep', 'missingindicator_Cabin',\n",
    "                'missingindicator_Destination', 'missingindicator_VIP', 'missingindicator_Name']\n",
    "\n",
    "# 2 Feature Utility Scores\n",
    "\n",
    "FEATURE_TARGET = 'Transported'\n",
    "MI_SCORES_THRESHOLD = 0.001\n",
    "\n",
    "## 3 Feature Engineering\n",
    "\n",
    "FEATURES_NEW_TO_DEL = ['PassengerId', 'Cabin', 'Name']"
   ]
  },
  {
   "cell_type": "markdown",
   "id": "e7b4a6e0-1116-40ec-9aa9-b47cc1e9c54f",
   "metadata": {},
   "source": [
    "### Configs"
   ]
  },
  {
   "cell_type": "code",
   "execution_count": 4,
   "id": "f68031b4-6f9c-449a-bc31-c0d334bcd1f4",
   "metadata": {},
   "outputs": [],
   "source": [
    "warnings.filterwarnings('ignore')\n",
    "\n",
    "random.seed(RANDOM_STATE)\n",
    "np.random.seed(RANDOM_STATE)\n",
    "\n",
    "REPORTS_DIR.mkdir(exist_ok=True)"
   ]
  },
  {
   "cell_type": "markdown",
   "id": "cc2107a1-89c6-4899-b3e6-89f8255d349d",
   "metadata": {},
   "source": [
    "## 1.2 Data Preprocessing"
   ]
  },
  {
   "cell_type": "markdown",
   "id": "8594845c-cffb-4183-8cbf-c81d627bfd0c",
   "metadata": {},
   "source": [
    "### Read"
   ]
  },
  {
   "cell_type": "code",
   "execution_count": 5,
   "id": "509a1598-35fa-4050-b5bb-bba9c2dbe6a3",
   "metadata": {},
   "outputs": [],
   "source": [
    "def read_data(path):\n",
    "    return pd.read_csv(path)"
   ]
  },
  {
   "cell_type": "code",
   "execution_count": 6,
   "id": "35305572-e91a-4e54-9b1a-fad25d6035bb",
   "metadata": {},
   "outputs": [
    {
     "name": "stdout",
     "output_type": "stream",
     "text": [
      "<class 'pandas.core.frame.DataFrame'>\n",
      "RangeIndex: 8693 entries, 0 to 8692\n",
      "Data columns (total 14 columns):\n",
      " #   Column        Non-Null Count  Dtype  \n",
      "---  ------        --------------  -----  \n",
      " 0   PassengerId   8693 non-null   object \n",
      " 1   HomePlanet    8492 non-null   object \n",
      " 2   CryoSleep     8476 non-null   object \n",
      " 3   Cabin         8494 non-null   object \n",
      " 4   Destination   8511 non-null   object \n",
      " 5   Age           8514 non-null   float64\n",
      " 6   VIP           8490 non-null   object \n",
      " 7   RoomService   8512 non-null   float64\n",
      " 8   FoodCourt     8510 non-null   float64\n",
      " 9   ShoppingMall  8485 non-null   float64\n",
      " 10  Spa           8510 non-null   float64\n",
      " 11  VRDeck        8505 non-null   float64\n",
      " 12  Name          8493 non-null   object \n",
      " 13  Transported   8693 non-null   bool   \n",
      "dtypes: bool(1), float64(6), object(7)\n",
      "memory usage: 891.5+ KB\n"
     ]
    }
   ],
   "source": [
    "df = read_data(TRAIN_PATH)\n",
    "df.info()"
   ]
  },
  {
   "cell_type": "markdown",
   "id": "728c63ca-02a9-4b56-b8db-8c6c3ed7dab7",
   "metadata": {},
   "source": [
    "### Profile Report"
   ]
  },
  {
   "cell_type": "code",
   "execution_count": 7,
   "id": "b3b83124-b3d3-477f-aa9c-03319fa606a9",
   "metadata": {},
   "outputs": [],
   "source": [
    "profile_report = ProfileReport(df, title='Profile Report')"
   ]
  },
  {
   "cell_type": "code",
   "execution_count": 8,
   "id": "5332d9a0-a68d-4f6c-bf9f-d6efe3eaeac8",
   "metadata": {},
   "outputs": [
    {
     "data": {
      "application/vnd.jupyter.widget-view+json": {
       "model_id": "a19b5576bdb34416b37782b005c85e21",
       "version_major": 2,
       "version_minor": 0
      },
      "text/plain": [
       "Summarize dataset:   0%|          | 0/5 [00:00<?, ?it/s]"
      ]
     },
     "metadata": {},
     "output_type": "display_data"
    },
    {
     "data": {
      "application/vnd.jupyter.widget-view+json": {
       "model_id": "973f5ba366484f898ecec06940c49d52",
       "version_major": 2,
       "version_minor": 0
      },
      "text/plain": [
       "Generate report structure:   0%|          | 0/1 [00:00<?, ?it/s]"
      ]
     },
     "metadata": {},
     "output_type": "display_data"
    },
    {
     "data": {
      "application/vnd.jupyter.widget-view+json": {
       "model_id": "6d3e3e32741a422484ed316ddbc82e31",
       "version_major": 2,
       "version_minor": 0
      },
      "text/plain": [
       "Render HTML:   0%|          | 0/1 [00:00<?, ?it/s]"
      ]
     },
     "metadata": {},
     "output_type": "display_data"
    },
    {
     "data": {
      "application/vnd.jupyter.widget-view+json": {
       "model_id": "d79761c2312c49ac87121b0300eaa576",
       "version_major": 2,
       "version_minor": 0
      },
      "text/plain": [
       "Export report to file:   0%|          | 0/1 [00:00<?, ?it/s]"
      ]
     },
     "metadata": {},
     "output_type": "display_data"
    }
   ],
   "source": [
    "profile_report.to_file(REPORTS_DIR.joinpath('eda_report.html'))"
   ]
  },
  {
   "cell_type": "markdown",
   "id": "679a7b9c-393e-4ed0-b9bc-1892f8046261",
   "metadata": {},
   "source": [
    "### Clean"
   ]
  },
  {
   "cell_type": "code",
   "execution_count": 9,
   "id": "2fce9dcb-cab5-4179-842f-56311ac72188",
   "metadata": {},
   "outputs": [],
   "source": [
    "def clean(df):\n",
    "    df[['CryoSleep', 'VIP']] = \\\n",
    "        df[['CryoSleep', 'VIP']].astype('Int64').astype('string')\n",
    "    return df"
   ]
  },
  {
   "cell_type": "code",
   "execution_count": 10,
   "id": "ef94aab4-e3c9-43cc-9608-b21750205d1c",
   "metadata": {},
   "outputs": [
    {
     "data": {
      "text/html": [
       "<div>\n",
       "<style scoped>\n",
       "    .dataframe tbody tr th:only-of-type {\n",
       "        vertical-align: middle;\n",
       "    }\n",
       "\n",
       "    .dataframe tbody tr th {\n",
       "        vertical-align: top;\n",
       "    }\n",
       "\n",
       "    .dataframe thead th {\n",
       "        text-align: right;\n",
       "    }\n",
       "</style>\n",
       "<table border=\"1\" class=\"dataframe\">\n",
       "  <thead>\n",
       "    <tr style=\"text-align: right;\">\n",
       "      <th></th>\n",
       "      <th>PassengerId</th>\n",
       "      <th>HomePlanet</th>\n",
       "      <th>CryoSleep</th>\n",
       "      <th>Cabin</th>\n",
       "      <th>Destination</th>\n",
       "      <th>Age</th>\n",
       "      <th>VIP</th>\n",
       "      <th>RoomService</th>\n",
       "      <th>FoodCourt</th>\n",
       "      <th>ShoppingMall</th>\n",
       "      <th>Spa</th>\n",
       "      <th>VRDeck</th>\n",
       "      <th>Name</th>\n",
       "      <th>Transported</th>\n",
       "    </tr>\n",
       "  </thead>\n",
       "  <tbody>\n",
       "    <tr>\n",
       "      <th>0</th>\n",
       "      <td>0001_01</td>\n",
       "      <td>Europa</td>\n",
       "      <td>0</td>\n",
       "      <td>B/0/P</td>\n",
       "      <td>TRAPPIST-1e</td>\n",
       "      <td>39.0</td>\n",
       "      <td>0</td>\n",
       "      <td>0.0</td>\n",
       "      <td>0.0</td>\n",
       "      <td>0.0</td>\n",
       "      <td>0.0</td>\n",
       "      <td>0.0</td>\n",
       "      <td>Maham Ofracculy</td>\n",
       "      <td>False</td>\n",
       "    </tr>\n",
       "    <tr>\n",
       "      <th>1</th>\n",
       "      <td>0002_01</td>\n",
       "      <td>Earth</td>\n",
       "      <td>0</td>\n",
       "      <td>F/0/S</td>\n",
       "      <td>TRAPPIST-1e</td>\n",
       "      <td>24.0</td>\n",
       "      <td>0</td>\n",
       "      <td>109.0</td>\n",
       "      <td>9.0</td>\n",
       "      <td>25.0</td>\n",
       "      <td>549.0</td>\n",
       "      <td>44.0</td>\n",
       "      <td>Juanna Vines</td>\n",
       "      <td>True</td>\n",
       "    </tr>\n",
       "    <tr>\n",
       "      <th>2</th>\n",
       "      <td>0003_01</td>\n",
       "      <td>Europa</td>\n",
       "      <td>0</td>\n",
       "      <td>A/0/S</td>\n",
       "      <td>TRAPPIST-1e</td>\n",
       "      <td>58.0</td>\n",
       "      <td>1</td>\n",
       "      <td>43.0</td>\n",
       "      <td>3576.0</td>\n",
       "      <td>0.0</td>\n",
       "      <td>6715.0</td>\n",
       "      <td>49.0</td>\n",
       "      <td>Altark Susent</td>\n",
       "      <td>False</td>\n",
       "    </tr>\n",
       "    <tr>\n",
       "      <th>3</th>\n",
       "      <td>0003_02</td>\n",
       "      <td>Europa</td>\n",
       "      <td>0</td>\n",
       "      <td>A/0/S</td>\n",
       "      <td>TRAPPIST-1e</td>\n",
       "      <td>33.0</td>\n",
       "      <td>0</td>\n",
       "      <td>0.0</td>\n",
       "      <td>1283.0</td>\n",
       "      <td>371.0</td>\n",
       "      <td>3329.0</td>\n",
       "      <td>193.0</td>\n",
       "      <td>Solam Susent</td>\n",
       "      <td>False</td>\n",
       "    </tr>\n",
       "    <tr>\n",
       "      <th>4</th>\n",
       "      <td>0004_01</td>\n",
       "      <td>Earth</td>\n",
       "      <td>0</td>\n",
       "      <td>F/1/S</td>\n",
       "      <td>TRAPPIST-1e</td>\n",
       "      <td>16.0</td>\n",
       "      <td>0</td>\n",
       "      <td>303.0</td>\n",
       "      <td>70.0</td>\n",
       "      <td>151.0</td>\n",
       "      <td>565.0</td>\n",
       "      <td>2.0</td>\n",
       "      <td>Willy Santantines</td>\n",
       "      <td>True</td>\n",
       "    </tr>\n",
       "  </tbody>\n",
       "</table>\n",
       "</div>"
      ],
      "text/plain": [
       "  PassengerId HomePlanet CryoSleep  Cabin  Destination   Age VIP  RoomService  \\\n",
       "0     0001_01     Europa         0  B/0/P  TRAPPIST-1e  39.0   0          0.0   \n",
       "1     0002_01      Earth         0  F/0/S  TRAPPIST-1e  24.0   0        109.0   \n",
       "2     0003_01     Europa         0  A/0/S  TRAPPIST-1e  58.0   1         43.0   \n",
       "3     0003_02     Europa         0  A/0/S  TRAPPIST-1e  33.0   0          0.0   \n",
       "4     0004_01      Earth         0  F/1/S  TRAPPIST-1e  16.0   0        303.0   \n",
       "\n",
       "   FoodCourt  ShoppingMall     Spa  VRDeck               Name  Transported  \n",
       "0        0.0           0.0     0.0     0.0    Maham Ofracculy        False  \n",
       "1        9.0          25.0   549.0    44.0       Juanna Vines         True  \n",
       "2     3576.0           0.0  6715.0    49.0      Altark Susent        False  \n",
       "3     1283.0         371.0  3329.0   193.0       Solam Susent        False  \n",
       "4       70.0         151.0   565.0     2.0  Willy Santantines         True  "
      ]
     },
     "execution_count": 10,
     "metadata": {},
     "output_type": "execute_result"
    }
   ],
   "source": [
    "df_cleaned = clean(df)\n",
    "df_cleaned.head()"
   ]
  },
  {
   "cell_type": "markdown",
   "id": "17dab6a4-9c4d-4a01-9b69-942a7d9581c6",
   "metadata": {},
   "source": [
    "### Missing Values"
   ]
  },
  {
   "cell_type": "code",
   "execution_count": 11,
   "id": "5979632e-a809-4d76-995c-fb3a0467c098",
   "metadata": {},
   "outputs": [],
   "source": [
    "def impute(df, knn_imputer, features_with_num_na, features_with_cat_na):\n",
    "    \n",
    "    def impute_num(df, knn_imputer, features_with_num_na):\n",
    "        X = df[features_with_num_na].copy()\n",
    "        X = pd.DataFrame(knn_imputer.transform(X))\n",
    "        X.columns = knn_imputer.get_feature_names_out()\n",
    "        X[['missingindicator_Age', 'missingindicator_RoomService', 'missingindicator_ShoppingMall', \n",
    "           'missingindicator_Spa', 'missingindicator_VRDeck']] = \\\n",
    "            X[['missingindicator_Age', 'missingindicator_RoomService', 'missingindicator_ShoppingMall', \n",
    "           'missingindicator_Spa', 'missingindicator_VRDeck']].astype('Int64').astype('string')\n",
    "        X = df.drop(columns=features_with_num_na).join(X)\n",
    "        return X\n",
    "    \n",
    "    def impute_cat(df, features_with_cat_na):\n",
    "        X = df[features_with_cat_na].copy()\n",
    "        \n",
    "        for feature in features_with_cat_na:\n",
    "            X['missingindicator_' + feature] = X[feature].isna().astype('Int64').astype('string')\n",
    "            X[X[feature].isna()] = 'Missing'\n",
    "\n",
    "        X = df.drop(columns=features_with_cat_na).join(X)\n",
    "        return X\n",
    "\n",
    "    df = impute_num(df, knn_imputer, features_with_num_na)\n",
    "    df = impute_cat(df, features_with_cat_na)\n",
    "    \n",
    "    return df"
   ]
  },
  {
   "cell_type": "code",
   "execution_count": 12,
   "id": "e2ff37bd-2d29-4101-8b57-97ec06512361",
   "metadata": {},
   "outputs": [
    {
     "data": {
      "text/html": [
       "<div>\n",
       "<style scoped>\n",
       "    .dataframe tbody tr th:only-of-type {\n",
       "        vertical-align: middle;\n",
       "    }\n",
       "\n",
       "    .dataframe tbody tr th {\n",
       "        vertical-align: top;\n",
       "    }\n",
       "\n",
       "    .dataframe thead th {\n",
       "        text-align: right;\n",
       "    }\n",
       "</style>\n",
       "<table border=\"1\" class=\"dataframe\">\n",
       "  <thead>\n",
       "    <tr style=\"text-align: right;\">\n",
       "      <th></th>\n",
       "      <th>PassengerId</th>\n",
       "      <th>Transported</th>\n",
       "      <th>Age</th>\n",
       "      <th>RoomService</th>\n",
       "      <th>FoodCourt</th>\n",
       "      <th>ShoppingMall</th>\n",
       "      <th>Spa</th>\n",
       "      <th>VRDeck</th>\n",
       "      <th>missingindicator_Age</th>\n",
       "      <th>missingindicator_RoomService</th>\n",
       "      <th>...</th>\n",
       "      <th>Cabin</th>\n",
       "      <th>Destination</th>\n",
       "      <th>VIP</th>\n",
       "      <th>Name</th>\n",
       "      <th>missingindicator_HomePlanet</th>\n",
       "      <th>missingindicator_CryoSleep</th>\n",
       "      <th>missingindicator_Cabin</th>\n",
       "      <th>missingindicator_Destination</th>\n",
       "      <th>missingindicator_VIP</th>\n",
       "      <th>missingindicator_Name</th>\n",
       "    </tr>\n",
       "  </thead>\n",
       "  <tbody>\n",
       "    <tr>\n",
       "      <th>0</th>\n",
       "      <td>0001_01</td>\n",
       "      <td>False</td>\n",
       "      <td>39.0</td>\n",
       "      <td>0.0</td>\n",
       "      <td>0.0</td>\n",
       "      <td>0.0</td>\n",
       "      <td>0.0</td>\n",
       "      <td>0.0</td>\n",
       "      <td>0</td>\n",
       "      <td>0</td>\n",
       "      <td>...</td>\n",
       "      <td>B/0/P</td>\n",
       "      <td>TRAPPIST-1e</td>\n",
       "      <td>0</td>\n",
       "      <td>Maham Ofracculy</td>\n",
       "      <td>0</td>\n",
       "      <td>0</td>\n",
       "      <td>0</td>\n",
       "      <td>0</td>\n",
       "      <td>0</td>\n",
       "      <td>0</td>\n",
       "    </tr>\n",
       "    <tr>\n",
       "      <th>1</th>\n",
       "      <td>0002_01</td>\n",
       "      <td>True</td>\n",
       "      <td>24.0</td>\n",
       "      <td>109.0</td>\n",
       "      <td>9.0</td>\n",
       "      <td>25.0</td>\n",
       "      <td>549.0</td>\n",
       "      <td>44.0</td>\n",
       "      <td>0</td>\n",
       "      <td>0</td>\n",
       "      <td>...</td>\n",
       "      <td>F/0/S</td>\n",
       "      <td>TRAPPIST-1e</td>\n",
       "      <td>0</td>\n",
       "      <td>Juanna Vines</td>\n",
       "      <td>0</td>\n",
       "      <td>0</td>\n",
       "      <td>0</td>\n",
       "      <td>0</td>\n",
       "      <td>0</td>\n",
       "      <td>0</td>\n",
       "    </tr>\n",
       "    <tr>\n",
       "      <th>2</th>\n",
       "      <td>0003_01</td>\n",
       "      <td>False</td>\n",
       "      <td>58.0</td>\n",
       "      <td>43.0</td>\n",
       "      <td>3576.0</td>\n",
       "      <td>0.0</td>\n",
       "      <td>6715.0</td>\n",
       "      <td>49.0</td>\n",
       "      <td>0</td>\n",
       "      <td>0</td>\n",
       "      <td>...</td>\n",
       "      <td>A/0/S</td>\n",
       "      <td>TRAPPIST-1e</td>\n",
       "      <td>1</td>\n",
       "      <td>Altark Susent</td>\n",
       "      <td>0</td>\n",
       "      <td>0</td>\n",
       "      <td>0</td>\n",
       "      <td>0</td>\n",
       "      <td>0</td>\n",
       "      <td>0</td>\n",
       "    </tr>\n",
       "    <tr>\n",
       "      <th>3</th>\n",
       "      <td>0003_02</td>\n",
       "      <td>False</td>\n",
       "      <td>33.0</td>\n",
       "      <td>0.0</td>\n",
       "      <td>1283.0</td>\n",
       "      <td>371.0</td>\n",
       "      <td>3329.0</td>\n",
       "      <td>193.0</td>\n",
       "      <td>0</td>\n",
       "      <td>0</td>\n",
       "      <td>...</td>\n",
       "      <td>A/0/S</td>\n",
       "      <td>TRAPPIST-1e</td>\n",
       "      <td>0</td>\n",
       "      <td>Solam Susent</td>\n",
       "      <td>0</td>\n",
       "      <td>0</td>\n",
       "      <td>0</td>\n",
       "      <td>0</td>\n",
       "      <td>0</td>\n",
       "      <td>0</td>\n",
       "    </tr>\n",
       "    <tr>\n",
       "      <th>4</th>\n",
       "      <td>0004_01</td>\n",
       "      <td>True</td>\n",
       "      <td>16.0</td>\n",
       "      <td>303.0</td>\n",
       "      <td>70.0</td>\n",
       "      <td>151.0</td>\n",
       "      <td>565.0</td>\n",
       "      <td>2.0</td>\n",
       "      <td>0</td>\n",
       "      <td>0</td>\n",
       "      <td>...</td>\n",
       "      <td>F/1/S</td>\n",
       "      <td>TRAPPIST-1e</td>\n",
       "      <td>0</td>\n",
       "      <td>Willy Santantines</td>\n",
       "      <td>0</td>\n",
       "      <td>0</td>\n",
       "      <td>0</td>\n",
       "      <td>0</td>\n",
       "      <td>0</td>\n",
       "      <td>0</td>\n",
       "    </tr>\n",
       "  </tbody>\n",
       "</table>\n",
       "<p>5 rows × 26 columns</p>\n",
       "</div>"
      ],
      "text/plain": [
       "  PassengerId  Transported   Age  RoomService  FoodCourt  ShoppingMall  \\\n",
       "0     0001_01        False  39.0          0.0        0.0           0.0   \n",
       "1     0002_01         True  24.0        109.0        9.0          25.0   \n",
       "2     0003_01        False  58.0         43.0     3576.0           0.0   \n",
       "3     0003_02        False  33.0          0.0     1283.0         371.0   \n",
       "4     0004_01         True  16.0        303.0       70.0         151.0   \n",
       "\n",
       "      Spa  VRDeck missingindicator_Age missingindicator_RoomService  ...  \\\n",
       "0     0.0     0.0                    0                            0  ...   \n",
       "1   549.0    44.0                    0                            0  ...   \n",
       "2  6715.0    49.0                    0                            0  ...   \n",
       "3  3329.0   193.0                    0                            0  ...   \n",
       "4   565.0     2.0                    0                            0  ...   \n",
       "\n",
       "   Cabin  Destination VIP               Name missingindicator_HomePlanet  \\\n",
       "0  B/0/P  TRAPPIST-1e   0    Maham Ofracculy                           0   \n",
       "1  F/0/S  TRAPPIST-1e   0       Juanna Vines                           0   \n",
       "2  A/0/S  TRAPPIST-1e   1      Altark Susent                           0   \n",
       "3  A/0/S  TRAPPIST-1e   0       Solam Susent                           0   \n",
       "4  F/1/S  TRAPPIST-1e   0  Willy Santantines                           0   \n",
       "\n",
       "  missingindicator_CryoSleep missingindicator_Cabin  \\\n",
       "0                          0                      0   \n",
       "1                          0                      0   \n",
       "2                          0                      0   \n",
       "3                          0                      0   \n",
       "4                          0                      0   \n",
       "\n",
       "  missingindicator_Destination missingindicator_VIP missingindicator_Name  \n",
       "0                            0                    0                     0  \n",
       "1                            0                    0                     0  \n",
       "2                            0                    0                     0  \n",
       "3                            0                    0                     0  \n",
       "4                            0                    0                     0  \n",
       "\n",
       "[5 rows x 26 columns]"
      ]
     },
     "execution_count": 12,
     "metadata": {},
     "output_type": "execute_result"
    }
   ],
   "source": [
    "knn_imputer = KNNImputer(add_indicator=True).fit(df_cleaned[FEATURES_WITH_NUM_NA])\n",
    "df_imputed = impute(df_cleaned, knn_imputer, FEATURES_WITH_NUM_NA, FEATURES_WITH_CAT_NA)\n",
    "df_imputed.head()"
   ]
  },
  {
   "cell_type": "code",
   "execution_count": 13,
   "id": "a30c6b2b-1873-4a70-9456-1f4a44ab73e0",
   "metadata": {},
   "outputs": [
    {
     "data": {
      "text/plain": [
       "0"
      ]
     },
     "execution_count": 13,
     "metadata": {},
     "output_type": "execute_result"
    }
   ],
   "source": [
    "df_imputed.isna().sum().sum()"
   ]
  },
  {
   "cell_type": "markdown",
   "id": "852478fd-88bf-438c-b979-bfd9d98903d6",
   "metadata": {},
   "source": [
    "### Outliers"
   ]
  },
  {
   "cell_type": "code",
   "execution_count": 14,
   "id": "36790f16-e783-4577-ba1e-a180cef8c73a",
   "metadata": {},
   "outputs": [],
   "source": [
    "def windorize_outliers(df, feature_outlier_thresholds):\n",
    "    \n",
    "    for feature, thresholds in feature_outlier_thresholds.items():\n",
    "        if 'upper' in thresholds.keys():\n",
    "            df.loc[df[feature] > thresholds['upper'], feature] = thresholds['upper']\n",
    "        elif 'lower' in thresholds.keys():\n",
    "            df.loc[df[feature] < thresholds['lower'], feature] = thresholds['lower']\n",
    "\n",
    "    return df"
   ]
  },
  {
   "cell_type": "code",
   "execution_count": 15,
   "id": "ddbf652e-ece9-471b-b4d8-a8594f6a9b7a",
   "metadata": {},
   "outputs": [
    {
     "data": {
      "text/html": [
       "<div>\n",
       "<style scoped>\n",
       "    .dataframe tbody tr th:only-of-type {\n",
       "        vertical-align: middle;\n",
       "    }\n",
       "\n",
       "    .dataframe tbody tr th {\n",
       "        vertical-align: top;\n",
       "    }\n",
       "\n",
       "    .dataframe thead th {\n",
       "        text-align: right;\n",
       "    }\n",
       "</style>\n",
       "<table border=\"1\" class=\"dataframe\">\n",
       "  <thead>\n",
       "    <tr style=\"text-align: right;\">\n",
       "      <th></th>\n",
       "      <th>PassengerId</th>\n",
       "      <th>Transported</th>\n",
       "      <th>Age</th>\n",
       "      <th>RoomService</th>\n",
       "      <th>FoodCourt</th>\n",
       "      <th>ShoppingMall</th>\n",
       "      <th>Spa</th>\n",
       "      <th>VRDeck</th>\n",
       "      <th>missingindicator_Age</th>\n",
       "      <th>missingindicator_RoomService</th>\n",
       "      <th>...</th>\n",
       "      <th>Cabin</th>\n",
       "      <th>Destination</th>\n",
       "      <th>VIP</th>\n",
       "      <th>Name</th>\n",
       "      <th>missingindicator_HomePlanet</th>\n",
       "      <th>missingindicator_CryoSleep</th>\n",
       "      <th>missingindicator_Cabin</th>\n",
       "      <th>missingindicator_Destination</th>\n",
       "      <th>missingindicator_VIP</th>\n",
       "      <th>missingindicator_Name</th>\n",
       "    </tr>\n",
       "  </thead>\n",
       "  <tbody>\n",
       "    <tr>\n",
       "      <th>0</th>\n",
       "      <td>0001_01</td>\n",
       "      <td>False</td>\n",
       "      <td>39.0</td>\n",
       "      <td>0.0</td>\n",
       "      <td>0.0</td>\n",
       "      <td>0.0</td>\n",
       "      <td>0.0</td>\n",
       "      <td>0.0</td>\n",
       "      <td>0</td>\n",
       "      <td>0</td>\n",
       "      <td>...</td>\n",
       "      <td>B/0/P</td>\n",
       "      <td>TRAPPIST-1e</td>\n",
       "      <td>0</td>\n",
       "      <td>Maham Ofracculy</td>\n",
       "      <td>0</td>\n",
       "      <td>0</td>\n",
       "      <td>0</td>\n",
       "      <td>0</td>\n",
       "      <td>0</td>\n",
       "      <td>0</td>\n",
       "    </tr>\n",
       "    <tr>\n",
       "      <th>1</th>\n",
       "      <td>0002_01</td>\n",
       "      <td>True</td>\n",
       "      <td>24.0</td>\n",
       "      <td>109.0</td>\n",
       "      <td>9.0</td>\n",
       "      <td>25.0</td>\n",
       "      <td>549.0</td>\n",
       "      <td>44.0</td>\n",
       "      <td>0</td>\n",
       "      <td>0</td>\n",
       "      <td>...</td>\n",
       "      <td>F/0/S</td>\n",
       "      <td>TRAPPIST-1e</td>\n",
       "      <td>0</td>\n",
       "      <td>Juanna Vines</td>\n",
       "      <td>0</td>\n",
       "      <td>0</td>\n",
       "      <td>0</td>\n",
       "      <td>0</td>\n",
       "      <td>0</td>\n",
       "      <td>0</td>\n",
       "    </tr>\n",
       "    <tr>\n",
       "      <th>2</th>\n",
       "      <td>0003_01</td>\n",
       "      <td>False</td>\n",
       "      <td>58.0</td>\n",
       "      <td>43.0</td>\n",
       "      <td>3576.0</td>\n",
       "      <td>0.0</td>\n",
       "      <td>5000.0</td>\n",
       "      <td>49.0</td>\n",
       "      <td>0</td>\n",
       "      <td>0</td>\n",
       "      <td>...</td>\n",
       "      <td>A/0/S</td>\n",
       "      <td>TRAPPIST-1e</td>\n",
       "      <td>1</td>\n",
       "      <td>Altark Susent</td>\n",
       "      <td>0</td>\n",
       "      <td>0</td>\n",
       "      <td>0</td>\n",
       "      <td>0</td>\n",
       "      <td>0</td>\n",
       "      <td>0</td>\n",
       "    </tr>\n",
       "    <tr>\n",
       "      <th>3</th>\n",
       "      <td>0003_02</td>\n",
       "      <td>False</td>\n",
       "      <td>33.0</td>\n",
       "      <td>0.0</td>\n",
       "      <td>1283.0</td>\n",
       "      <td>371.0</td>\n",
       "      <td>3329.0</td>\n",
       "      <td>193.0</td>\n",
       "      <td>0</td>\n",
       "      <td>0</td>\n",
       "      <td>...</td>\n",
       "      <td>A/0/S</td>\n",
       "      <td>TRAPPIST-1e</td>\n",
       "      <td>0</td>\n",
       "      <td>Solam Susent</td>\n",
       "      <td>0</td>\n",
       "      <td>0</td>\n",
       "      <td>0</td>\n",
       "      <td>0</td>\n",
       "      <td>0</td>\n",
       "      <td>0</td>\n",
       "    </tr>\n",
       "    <tr>\n",
       "      <th>4</th>\n",
       "      <td>0004_01</td>\n",
       "      <td>True</td>\n",
       "      <td>16.0</td>\n",
       "      <td>303.0</td>\n",
       "      <td>70.0</td>\n",
       "      <td>151.0</td>\n",
       "      <td>565.0</td>\n",
       "      <td>2.0</td>\n",
       "      <td>0</td>\n",
       "      <td>0</td>\n",
       "      <td>...</td>\n",
       "      <td>F/1/S</td>\n",
       "      <td>TRAPPIST-1e</td>\n",
       "      <td>0</td>\n",
       "      <td>Willy Santantines</td>\n",
       "      <td>0</td>\n",
       "      <td>0</td>\n",
       "      <td>0</td>\n",
       "      <td>0</td>\n",
       "      <td>0</td>\n",
       "      <td>0</td>\n",
       "    </tr>\n",
       "  </tbody>\n",
       "</table>\n",
       "<p>5 rows × 26 columns</p>\n",
       "</div>"
      ],
      "text/plain": [
       "  PassengerId  Transported   Age  RoomService  FoodCourt  ShoppingMall  \\\n",
       "0     0001_01        False  39.0          0.0        0.0           0.0   \n",
       "1     0002_01         True  24.0        109.0        9.0          25.0   \n",
       "2     0003_01        False  58.0         43.0     3576.0           0.0   \n",
       "3     0003_02        False  33.0          0.0     1283.0         371.0   \n",
       "4     0004_01         True  16.0        303.0       70.0         151.0   \n",
       "\n",
       "      Spa  VRDeck missingindicator_Age missingindicator_RoomService  ...  \\\n",
       "0     0.0     0.0                    0                            0  ...   \n",
       "1   549.0    44.0                    0                            0  ...   \n",
       "2  5000.0    49.0                    0                            0  ...   \n",
       "3  3329.0   193.0                    0                            0  ...   \n",
       "4   565.0     2.0                    0                            0  ...   \n",
       "\n",
       "   Cabin  Destination VIP               Name missingindicator_HomePlanet  \\\n",
       "0  B/0/P  TRAPPIST-1e   0    Maham Ofracculy                           0   \n",
       "1  F/0/S  TRAPPIST-1e   0       Juanna Vines                           0   \n",
       "2  A/0/S  TRAPPIST-1e   1      Altark Susent                           0   \n",
       "3  A/0/S  TRAPPIST-1e   0       Solam Susent                           0   \n",
       "4  F/1/S  TRAPPIST-1e   0  Willy Santantines                           0   \n",
       "\n",
       "  missingindicator_CryoSleep missingindicator_Cabin  \\\n",
       "0                          0                      0   \n",
       "1                          0                      0   \n",
       "2                          0                      0   \n",
       "3                          0                      0   \n",
       "4                          0                      0   \n",
       "\n",
       "  missingindicator_Destination missingindicator_VIP missingindicator_Name  \n",
       "0                            0                    0                     0  \n",
       "1                            0                    0                     0  \n",
       "2                            0                    0                     0  \n",
       "3                            0                    0                     0  \n",
       "4                            0                    0                     0  \n",
       "\n",
       "[5 rows x 26 columns]"
      ]
     },
     "execution_count": 15,
     "metadata": {},
     "output_type": "execute_result"
    }
   ],
   "source": [
    "df_without_outliers = windorize_outliers(df_imputed, FEATURE_OUTLIER_THRESHOLDS)\n",
    "df_without_outliers.head()"
   ]
  },
  {
   "cell_type": "markdown",
   "id": "166ff92a-d007-4617-8ef0-857f43398b42",
   "metadata": {},
   "source": [
    "### Encode"
   ]
  },
  {
   "cell_type": "code",
   "execution_count": 16,
   "id": "6109425c-70dd-492b-8f11-9c26e998653a",
   "metadata": {},
   "outputs": [],
   "source": [
    "def encode(df, features_cat):\n",
    "    \n",
    "    def encode_cat(df, features_cat):\n",
    "        for feature in features_cat:\n",
    "            df[feature] = df[feature].astype('category')\n",
    "        return df\n",
    "    \n",
    "    df = encode_cat(df, features_cat)\n",
    "    return df"
   ]
  },
  {
   "cell_type": "code",
   "execution_count": 17,
   "id": "eff9a70e-92cd-4117-8f00-23f4fa189d72",
   "metadata": {},
   "outputs": [
    {
     "data": {
      "text/html": [
       "<div>\n",
       "<style scoped>\n",
       "    .dataframe tbody tr th:only-of-type {\n",
       "        vertical-align: middle;\n",
       "    }\n",
       "\n",
       "    .dataframe tbody tr th {\n",
       "        vertical-align: top;\n",
       "    }\n",
       "\n",
       "    .dataframe thead th {\n",
       "        text-align: right;\n",
       "    }\n",
       "</style>\n",
       "<table border=\"1\" class=\"dataframe\">\n",
       "  <thead>\n",
       "    <tr style=\"text-align: right;\">\n",
       "      <th></th>\n",
       "      <th>PassengerId</th>\n",
       "      <th>Transported</th>\n",
       "      <th>Age</th>\n",
       "      <th>RoomService</th>\n",
       "      <th>FoodCourt</th>\n",
       "      <th>ShoppingMall</th>\n",
       "      <th>Spa</th>\n",
       "      <th>VRDeck</th>\n",
       "      <th>missingindicator_Age</th>\n",
       "      <th>missingindicator_RoomService</th>\n",
       "      <th>...</th>\n",
       "      <th>Cabin</th>\n",
       "      <th>Destination</th>\n",
       "      <th>VIP</th>\n",
       "      <th>Name</th>\n",
       "      <th>missingindicator_HomePlanet</th>\n",
       "      <th>missingindicator_CryoSleep</th>\n",
       "      <th>missingindicator_Cabin</th>\n",
       "      <th>missingindicator_Destination</th>\n",
       "      <th>missingindicator_VIP</th>\n",
       "      <th>missingindicator_Name</th>\n",
       "    </tr>\n",
       "  </thead>\n",
       "  <tbody>\n",
       "    <tr>\n",
       "      <th>0</th>\n",
       "      <td>0001_01</td>\n",
       "      <td>False</td>\n",
       "      <td>39.0</td>\n",
       "      <td>0.0</td>\n",
       "      <td>0.0</td>\n",
       "      <td>0.0</td>\n",
       "      <td>0.0</td>\n",
       "      <td>0.0</td>\n",
       "      <td>0</td>\n",
       "      <td>0</td>\n",
       "      <td>...</td>\n",
       "      <td>B/0/P</td>\n",
       "      <td>TRAPPIST-1e</td>\n",
       "      <td>0</td>\n",
       "      <td>Maham Ofracculy</td>\n",
       "      <td>0</td>\n",
       "      <td>0</td>\n",
       "      <td>0</td>\n",
       "      <td>0</td>\n",
       "      <td>0</td>\n",
       "      <td>0</td>\n",
       "    </tr>\n",
       "    <tr>\n",
       "      <th>1</th>\n",
       "      <td>0002_01</td>\n",
       "      <td>True</td>\n",
       "      <td>24.0</td>\n",
       "      <td>109.0</td>\n",
       "      <td>9.0</td>\n",
       "      <td>25.0</td>\n",
       "      <td>549.0</td>\n",
       "      <td>44.0</td>\n",
       "      <td>0</td>\n",
       "      <td>0</td>\n",
       "      <td>...</td>\n",
       "      <td>F/0/S</td>\n",
       "      <td>TRAPPIST-1e</td>\n",
       "      <td>0</td>\n",
       "      <td>Juanna Vines</td>\n",
       "      <td>0</td>\n",
       "      <td>0</td>\n",
       "      <td>0</td>\n",
       "      <td>0</td>\n",
       "      <td>0</td>\n",
       "      <td>0</td>\n",
       "    </tr>\n",
       "    <tr>\n",
       "      <th>2</th>\n",
       "      <td>0003_01</td>\n",
       "      <td>False</td>\n",
       "      <td>58.0</td>\n",
       "      <td>43.0</td>\n",
       "      <td>3576.0</td>\n",
       "      <td>0.0</td>\n",
       "      <td>5000.0</td>\n",
       "      <td>49.0</td>\n",
       "      <td>0</td>\n",
       "      <td>0</td>\n",
       "      <td>...</td>\n",
       "      <td>A/0/S</td>\n",
       "      <td>TRAPPIST-1e</td>\n",
       "      <td>1</td>\n",
       "      <td>Altark Susent</td>\n",
       "      <td>0</td>\n",
       "      <td>0</td>\n",
       "      <td>0</td>\n",
       "      <td>0</td>\n",
       "      <td>0</td>\n",
       "      <td>0</td>\n",
       "    </tr>\n",
       "    <tr>\n",
       "      <th>3</th>\n",
       "      <td>0003_02</td>\n",
       "      <td>False</td>\n",
       "      <td>33.0</td>\n",
       "      <td>0.0</td>\n",
       "      <td>1283.0</td>\n",
       "      <td>371.0</td>\n",
       "      <td>3329.0</td>\n",
       "      <td>193.0</td>\n",
       "      <td>0</td>\n",
       "      <td>0</td>\n",
       "      <td>...</td>\n",
       "      <td>A/0/S</td>\n",
       "      <td>TRAPPIST-1e</td>\n",
       "      <td>0</td>\n",
       "      <td>Solam Susent</td>\n",
       "      <td>0</td>\n",
       "      <td>0</td>\n",
       "      <td>0</td>\n",
       "      <td>0</td>\n",
       "      <td>0</td>\n",
       "      <td>0</td>\n",
       "    </tr>\n",
       "    <tr>\n",
       "      <th>4</th>\n",
       "      <td>0004_01</td>\n",
       "      <td>True</td>\n",
       "      <td>16.0</td>\n",
       "      <td>303.0</td>\n",
       "      <td>70.0</td>\n",
       "      <td>151.0</td>\n",
       "      <td>565.0</td>\n",
       "      <td>2.0</td>\n",
       "      <td>0</td>\n",
       "      <td>0</td>\n",
       "      <td>...</td>\n",
       "      <td>F/1/S</td>\n",
       "      <td>TRAPPIST-1e</td>\n",
       "      <td>0</td>\n",
       "      <td>Willy Santantines</td>\n",
       "      <td>0</td>\n",
       "      <td>0</td>\n",
       "      <td>0</td>\n",
       "      <td>0</td>\n",
       "      <td>0</td>\n",
       "      <td>0</td>\n",
       "    </tr>\n",
       "  </tbody>\n",
       "</table>\n",
       "<p>5 rows × 26 columns</p>\n",
       "</div>"
      ],
      "text/plain": [
       "  PassengerId  Transported   Age  RoomService  FoodCourt  ShoppingMall  \\\n",
       "0     0001_01        False  39.0          0.0        0.0           0.0   \n",
       "1     0002_01         True  24.0        109.0        9.0          25.0   \n",
       "2     0003_01        False  58.0         43.0     3576.0           0.0   \n",
       "3     0003_02        False  33.0          0.0     1283.0         371.0   \n",
       "4     0004_01         True  16.0        303.0       70.0         151.0   \n",
       "\n",
       "      Spa  VRDeck missingindicator_Age missingindicator_RoomService  ...  \\\n",
       "0     0.0     0.0                    0                            0  ...   \n",
       "1   549.0    44.0                    0                            0  ...   \n",
       "2  5000.0    49.0                    0                            0  ...   \n",
       "3  3329.0   193.0                    0                            0  ...   \n",
       "4   565.0     2.0                    0                            0  ...   \n",
       "\n",
       "   Cabin  Destination VIP               Name missingindicator_HomePlanet  \\\n",
       "0  B/0/P  TRAPPIST-1e   0    Maham Ofracculy                           0   \n",
       "1  F/0/S  TRAPPIST-1e   0       Juanna Vines                           0   \n",
       "2  A/0/S  TRAPPIST-1e   1      Altark Susent                           0   \n",
       "3  A/0/S  TRAPPIST-1e   0       Solam Susent                           0   \n",
       "4  F/1/S  TRAPPIST-1e   0  Willy Santantines                           0   \n",
       "\n",
       "  missingindicator_CryoSleep missingindicator_Cabin  \\\n",
       "0                          0                      0   \n",
       "1                          0                      0   \n",
       "2                          0                      0   \n",
       "3                          0                      0   \n",
       "4                          0                      0   \n",
       "\n",
       "  missingindicator_Destination missingindicator_VIP missingindicator_Name  \n",
       "0                            0                    0                     0  \n",
       "1                            0                    0                     0  \n",
       "2                            0                    0                     0  \n",
       "3                            0                    0                     0  \n",
       "4                            0                    0                     0  \n",
       "\n",
       "[5 rows x 26 columns]"
      ]
     },
     "execution_count": 17,
     "metadata": {},
     "output_type": "execute_result"
    }
   ],
   "source": [
    "df_encoded = encode(df_without_outliers, FEATURES_CAT)\n",
    "df_encoded.head()"
   ]
  },
  {
   "cell_type": "code",
   "execution_count": 18,
   "id": "e61e12d1-2b8c-4604-a35a-2712e921cb1f",
   "metadata": {},
   "outputs": [
    {
     "data": {
      "text/plain": [
       "PassengerId                      category\n",
       "Transported                          bool\n",
       "Age                               float64\n",
       "RoomService                       float64\n",
       "FoodCourt                         float64\n",
       "ShoppingMall                      float64\n",
       "Spa                               float64\n",
       "VRDeck                            float64\n",
       "missingindicator_Age             category\n",
       "missingindicator_RoomService     category\n",
       "missingindicator_FoodCourt       category\n",
       "missingindicator_ShoppingMall    category\n",
       "missingindicator_Spa             category\n",
       "missingindicator_VRDeck          category\n",
       "HomePlanet                       category\n",
       "CryoSleep                        category\n",
       "Cabin                            category\n",
       "Destination                      category\n",
       "VIP                              category\n",
       "Name                             category\n",
       "missingindicator_HomePlanet      category\n",
       "missingindicator_CryoSleep       category\n",
       "missingindicator_Cabin           category\n",
       "missingindicator_Destination     category\n",
       "missingindicator_VIP             category\n",
       "missingindicator_Name            category\n",
       "dtype: object"
      ]
     },
     "execution_count": 18,
     "metadata": {},
     "output_type": "execute_result"
    }
   ],
   "source": [
    "df_encoded.dtypes"
   ]
  },
  {
   "cell_type": "markdown",
   "id": "eeda65e1-7a52-4b21-baa5-41729443020a",
   "metadata": {},
   "source": [
    "### Summary"
   ]
  },
  {
   "cell_type": "code",
   "execution_count": 19,
   "id": "acecd3b3-3cd9-49b4-a76f-9f899da3831f",
   "metadata": {},
   "outputs": [],
   "source": [
    "def load_data(path, features_with_num_na, features_with_cat_na, \n",
    "              feature_outlier_thresholds, features_cat):\n",
    "    df = read_data(path)\n",
    "    df = clean(df)\n",
    "    knn_imputer = KNNImputer(add_indicator=True).fit(df[features_with_num_na])\n",
    "    df = impute(df, knn_imputer, features_with_num_na, features_with_cat_na)\n",
    "    df = windorize_outliers(df, feature_outlier_thresholds)\n",
    "    df = encode(df, features_cat)\n",
    "    return df"
   ]
  },
  {
   "cell_type": "code",
   "execution_count": 20,
   "id": "32d0c878-95eb-48aa-96df-a73897faf5b2",
   "metadata": {
    "scrolled": true
   },
   "outputs": [
    {
     "data": {
      "text/html": [
       "<div>\n",
       "<style scoped>\n",
       "    .dataframe tbody tr th:only-of-type {\n",
       "        vertical-align: middle;\n",
       "    }\n",
       "\n",
       "    .dataframe tbody tr th {\n",
       "        vertical-align: top;\n",
       "    }\n",
       "\n",
       "    .dataframe thead th {\n",
       "        text-align: right;\n",
       "    }\n",
       "</style>\n",
       "<table border=\"1\" class=\"dataframe\">\n",
       "  <thead>\n",
       "    <tr style=\"text-align: right;\">\n",
       "      <th></th>\n",
       "      <th>PassengerId</th>\n",
       "      <th>Transported</th>\n",
       "      <th>Age</th>\n",
       "      <th>RoomService</th>\n",
       "      <th>FoodCourt</th>\n",
       "      <th>ShoppingMall</th>\n",
       "      <th>Spa</th>\n",
       "      <th>VRDeck</th>\n",
       "      <th>missingindicator_Age</th>\n",
       "      <th>missingindicator_RoomService</th>\n",
       "      <th>...</th>\n",
       "      <th>Cabin</th>\n",
       "      <th>Destination</th>\n",
       "      <th>VIP</th>\n",
       "      <th>Name</th>\n",
       "      <th>missingindicator_HomePlanet</th>\n",
       "      <th>missingindicator_CryoSleep</th>\n",
       "      <th>missingindicator_Cabin</th>\n",
       "      <th>missingindicator_Destination</th>\n",
       "      <th>missingindicator_VIP</th>\n",
       "      <th>missingindicator_Name</th>\n",
       "    </tr>\n",
       "  </thead>\n",
       "  <tbody>\n",
       "    <tr>\n",
       "      <th>0</th>\n",
       "      <td>0001_01</td>\n",
       "      <td>False</td>\n",
       "      <td>39.0</td>\n",
       "      <td>0.0</td>\n",
       "      <td>0.0</td>\n",
       "      <td>0.0</td>\n",
       "      <td>0.0</td>\n",
       "      <td>0.0</td>\n",
       "      <td>0</td>\n",
       "      <td>0</td>\n",
       "      <td>...</td>\n",
       "      <td>B/0/P</td>\n",
       "      <td>TRAPPIST-1e</td>\n",
       "      <td>0</td>\n",
       "      <td>Maham Ofracculy</td>\n",
       "      <td>0</td>\n",
       "      <td>0</td>\n",
       "      <td>0</td>\n",
       "      <td>0</td>\n",
       "      <td>0</td>\n",
       "      <td>0</td>\n",
       "    </tr>\n",
       "    <tr>\n",
       "      <th>1</th>\n",
       "      <td>0002_01</td>\n",
       "      <td>True</td>\n",
       "      <td>24.0</td>\n",
       "      <td>109.0</td>\n",
       "      <td>9.0</td>\n",
       "      <td>25.0</td>\n",
       "      <td>549.0</td>\n",
       "      <td>44.0</td>\n",
       "      <td>0</td>\n",
       "      <td>0</td>\n",
       "      <td>...</td>\n",
       "      <td>F/0/S</td>\n",
       "      <td>TRAPPIST-1e</td>\n",
       "      <td>0</td>\n",
       "      <td>Juanna Vines</td>\n",
       "      <td>0</td>\n",
       "      <td>0</td>\n",
       "      <td>0</td>\n",
       "      <td>0</td>\n",
       "      <td>0</td>\n",
       "      <td>0</td>\n",
       "    </tr>\n",
       "    <tr>\n",
       "      <th>2</th>\n",
       "      <td>0003_01</td>\n",
       "      <td>False</td>\n",
       "      <td>58.0</td>\n",
       "      <td>43.0</td>\n",
       "      <td>3576.0</td>\n",
       "      <td>0.0</td>\n",
       "      <td>5000.0</td>\n",
       "      <td>49.0</td>\n",
       "      <td>0</td>\n",
       "      <td>0</td>\n",
       "      <td>...</td>\n",
       "      <td>A/0/S</td>\n",
       "      <td>TRAPPIST-1e</td>\n",
       "      <td>1</td>\n",
       "      <td>Altark Susent</td>\n",
       "      <td>0</td>\n",
       "      <td>0</td>\n",
       "      <td>0</td>\n",
       "      <td>0</td>\n",
       "      <td>0</td>\n",
       "      <td>0</td>\n",
       "    </tr>\n",
       "    <tr>\n",
       "      <th>3</th>\n",
       "      <td>0003_02</td>\n",
       "      <td>False</td>\n",
       "      <td>33.0</td>\n",
       "      <td>0.0</td>\n",
       "      <td>1283.0</td>\n",
       "      <td>371.0</td>\n",
       "      <td>3329.0</td>\n",
       "      <td>193.0</td>\n",
       "      <td>0</td>\n",
       "      <td>0</td>\n",
       "      <td>...</td>\n",
       "      <td>A/0/S</td>\n",
       "      <td>TRAPPIST-1e</td>\n",
       "      <td>0</td>\n",
       "      <td>Solam Susent</td>\n",
       "      <td>0</td>\n",
       "      <td>0</td>\n",
       "      <td>0</td>\n",
       "      <td>0</td>\n",
       "      <td>0</td>\n",
       "      <td>0</td>\n",
       "    </tr>\n",
       "    <tr>\n",
       "      <th>4</th>\n",
       "      <td>0004_01</td>\n",
       "      <td>True</td>\n",
       "      <td>16.0</td>\n",
       "      <td>303.0</td>\n",
       "      <td>70.0</td>\n",
       "      <td>151.0</td>\n",
       "      <td>565.0</td>\n",
       "      <td>2.0</td>\n",
       "      <td>0</td>\n",
       "      <td>0</td>\n",
       "      <td>...</td>\n",
       "      <td>F/1/S</td>\n",
       "      <td>TRAPPIST-1e</td>\n",
       "      <td>0</td>\n",
       "      <td>Willy Santantines</td>\n",
       "      <td>0</td>\n",
       "      <td>0</td>\n",
       "      <td>0</td>\n",
       "      <td>0</td>\n",
       "      <td>0</td>\n",
       "      <td>0</td>\n",
       "    </tr>\n",
       "  </tbody>\n",
       "</table>\n",
       "<p>5 rows × 26 columns</p>\n",
       "</div>"
      ],
      "text/plain": [
       "  PassengerId  Transported   Age  RoomService  FoodCourt  ShoppingMall  \\\n",
       "0     0001_01        False  39.0          0.0        0.0           0.0   \n",
       "1     0002_01         True  24.0        109.0        9.0          25.0   \n",
       "2     0003_01        False  58.0         43.0     3576.0           0.0   \n",
       "3     0003_02        False  33.0          0.0     1283.0         371.0   \n",
       "4     0004_01         True  16.0        303.0       70.0         151.0   \n",
       "\n",
       "      Spa  VRDeck missingindicator_Age missingindicator_RoomService  ...  \\\n",
       "0     0.0     0.0                    0                            0  ...   \n",
       "1   549.0    44.0                    0                            0  ...   \n",
       "2  5000.0    49.0                    0                            0  ...   \n",
       "3  3329.0   193.0                    0                            0  ...   \n",
       "4   565.0     2.0                    0                            0  ...   \n",
       "\n",
       "   Cabin  Destination VIP               Name missingindicator_HomePlanet  \\\n",
       "0  B/0/P  TRAPPIST-1e   0    Maham Ofracculy                           0   \n",
       "1  F/0/S  TRAPPIST-1e   0       Juanna Vines                           0   \n",
       "2  A/0/S  TRAPPIST-1e   1      Altark Susent                           0   \n",
       "3  A/0/S  TRAPPIST-1e   0       Solam Susent                           0   \n",
       "4  F/1/S  TRAPPIST-1e   0  Willy Santantines                           0   \n",
       "\n",
       "  missingindicator_CryoSleep missingindicator_Cabin  \\\n",
       "0                          0                      0   \n",
       "1                          0                      0   \n",
       "2                          0                      0   \n",
       "3                          0                      0   \n",
       "4                          0                      0   \n",
       "\n",
       "  missingindicator_Destination missingindicator_VIP missingindicator_Name  \n",
       "0                            0                    0                     0  \n",
       "1                            0                    0                     0  \n",
       "2                            0                    0                     0  \n",
       "3                            0                    0                     0  \n",
       "4                            0                    0                     0  \n",
       "\n",
       "[5 rows x 26 columns]"
      ]
     },
     "execution_count": 20,
     "metadata": {},
     "output_type": "execute_result"
    }
   ],
   "source": [
    "df = load_data(\n",
    "    TRAIN_PATH, \n",
    "    FEATURES_WITH_NUM_NA, \n",
    "    FEATURES_WITH_CAT_NA,\n",
    "    FEATURE_OUTLIER_THRESHOLDS,\n",
    "    FEATURES_CAT,\n",
    ")\n",
    "df.head()"
   ]
  },
  {
   "cell_type": "code",
   "execution_count": 21,
   "id": "ab734479-58b8-44e0-9b3e-d77ad45bd9b1",
   "metadata": {},
   "outputs": [
    {
     "data": {
      "text/plain": [
       "0"
      ]
     },
     "execution_count": 21,
     "metadata": {},
     "output_type": "execute_result"
    }
   ],
   "source": [
    "df.isna().sum().sum()"
   ]
  },
  {
   "cell_type": "code",
   "execution_count": 22,
   "id": "c7b8f637-3f65-4af2-a16d-f028e6e9002c",
   "metadata": {},
   "outputs": [
    {
     "data": {
      "text/plain": [
       "PassengerId                      category\n",
       "Transported                          bool\n",
       "Age                               float64\n",
       "RoomService                       float64\n",
       "FoodCourt                         float64\n",
       "ShoppingMall                      float64\n",
       "Spa                               float64\n",
       "VRDeck                            float64\n",
       "missingindicator_Age             category\n",
       "missingindicator_RoomService     category\n",
       "missingindicator_FoodCourt       category\n",
       "missingindicator_ShoppingMall    category\n",
       "missingindicator_Spa             category\n",
       "missingindicator_VRDeck          category\n",
       "HomePlanet                       category\n",
       "CryoSleep                        category\n",
       "Cabin                            category\n",
       "Destination                      category\n",
       "VIP                              category\n",
       "Name                             category\n",
       "missingindicator_HomePlanet      category\n",
       "missingindicator_CryoSleep       category\n",
       "missingindicator_Cabin           category\n",
       "missingindicator_Destination     category\n",
       "missingindicator_VIP             category\n",
       "missingindicator_Name            category\n",
       "dtype: object"
      ]
     },
     "execution_count": 22,
     "metadata": {},
     "output_type": "execute_result"
    }
   ],
   "source": [
    "df.dtypes"
   ]
  },
  {
   "cell_type": "markdown",
   "id": "7f865690-506f-494d-b16b-fb5ce1dbff20",
   "metadata": {},
   "source": [
    "## 2 Feature Utility Scores"
   ]
  },
  {
   "cell_type": "markdown",
   "id": "3035015d-222b-4440-822e-a29b433dea77",
   "metadata": {},
   "source": [
    "## 2.1 MI Scores"
   ]
  },
  {
   "cell_type": "code",
   "execution_count": 23,
   "id": "990b4ed2-3e69-47d3-81f0-1aa2460dbf82",
   "metadata": {},
   "outputs": [],
   "source": [
    "def make_mi_scores(X, y, features_bad=None, random_state=0):\n",
    "    if features_bad is None:\n",
    "        features_bad = []\n",
    "    \n",
    "    X = X.drop(columns=features_bad).copy()\n",
    "    for feature in X.select_dtypes(['object', 'category']):\n",
    "        X[feature], _ = X[feature].factorize()\n",
    "        \n",
    "    discrete_features = [pd.api.types.is_integer_dtype(t) for t in X.dtypes]\n",
    "    mi_scores = mutual_info_regression(X, y, discrete_features=discrete_features, random_state=random_state)\n",
    "    mi_scores = pd.Series(mi_scores, name='MI Scores', index=X.columns)\n",
    "    mi_scores = mi_scores.sort_values(ascending=False)\n",
    "    return mi_scores"
   ]
  },
  {
   "cell_type": "code",
   "execution_count": 24,
   "id": "25df9a9e-d423-47cb-baf2-f0c2761c7367",
   "metadata": {},
   "outputs": [
    {
     "data": {
      "text/plain": [
       "Cabin                            1.295505\n",
       "CryoSleep                        0.108798\n",
       "Spa                              0.086079\n",
       "RoomService                      0.073887\n",
       "VRDeck                           0.065624\n",
       "ShoppingMall                     0.060049\n",
       "FoodCourt                        0.036294\n",
       "Name                             0.027768\n",
       "HomePlanet                       0.027604\n",
       "Age                              0.016546\n",
       "Destination                      0.013313\n",
       "VIP                              0.010201\n",
       "missingindicator_HomePlanet      0.008994\n",
       "missingindicator_CryoSleep       0.006976\n",
       "missingindicator_Cabin           0.004571\n",
       "missingindicator_Destination     0.003218\n",
       "missingindicator_VRDeck          0.002063\n",
       "missingindicator_Name            0.001168\n",
       "missingindicator_VIP             0.001138\n",
       "missingindicator_Spa             0.000839\n",
       "missingindicator_RoomService     0.000647\n",
       "missingindicator_FoodCourt       0.000085\n",
       "missingindicator_ShoppingMall    0.000000\n",
       "missingindicator_Age             0.000000\n",
       "Name: MI Scores, dtype: float64"
      ]
     },
     "execution_count": 24,
     "metadata": {},
     "output_type": "execute_result"
    }
   ],
   "source": [
    "mi_scores = make_mi_scores(df, df[FEATURE_TARGET], features_bad=['PassengerId', FEATURE_TARGET], \n",
    "                           random_state=RANDOM_STATE)\n",
    "mi_scores"
   ]
  },
  {
   "cell_type": "markdown",
   "id": "5fc18b68-e2ff-4ac3-9e87-e44e767ca091",
   "metadata": {},
   "source": [
    "## 2.2 Drop Uninformative"
   ]
  },
  {
   "cell_type": "code",
   "execution_count": 25,
   "id": "c96d48f1-3dbd-411b-a00f-a4fcf768b207",
   "metadata": {},
   "outputs": [],
   "source": [
    "def drop_uninformative(df, mi_scores, threshold, features_bad=None):\n",
    "    if features_bad is None:\n",
    "        features_bad = []\n",
    "    features_to_del = features_bad\n",
    "    \n",
    "    X = df.drop(columns=features_to_del)\n",
    "    X = X.loc[:, mi_scores > threshold]\n",
    "    return X.join(df[features_bad])"
   ]
  },
  {
   "cell_type": "code",
   "execution_count": 26,
   "id": "63c593e8-7e97-4897-afbc-5b68411cabe1",
   "metadata": {},
   "outputs": [
    {
     "data": {
      "text/plain": [
       "Index(['Age', 'RoomService', 'FoodCourt', 'ShoppingMall', 'Spa', 'VRDeck',\n",
       "       'missingindicator_VRDeck', 'HomePlanet', 'CryoSleep', 'Cabin',\n",
       "       'Destination', 'VIP', 'Name', 'missingindicator_HomePlanet',\n",
       "       'missingindicator_CryoSleep', 'missingindicator_Cabin',\n",
       "       'missingindicator_Destination', 'missingindicator_VIP',\n",
       "       'missingindicator_Name', 'PassengerId', 'Transported'],\n",
       "      dtype='object')"
      ]
     },
     "execution_count": 26,
     "metadata": {},
     "output_type": "execute_result"
    }
   ],
   "source": [
    "df_informative = drop_uninformative(df, mi_scores, MI_SCORES_THRESHOLD, features_bad=['PassengerId', FEATURE_TARGET])\n",
    "df_informative.columns"
   ]
  },
  {
   "cell_type": "markdown",
   "id": "4b52c0ae-0cf9-490f-a2e9-11f9b90eb74f",
   "metadata": {},
   "source": [
    "## 3 Feature Engineering"
   ]
  },
  {
   "cell_type": "markdown",
   "id": "bc17cf08-16d0-4958-930f-05ea7b1f0821",
   "metadata": {},
   "source": [
    "## 3.1 Create Features with Pandas"
   ]
  },
  {
   "cell_type": "code",
   "execution_count": 27,
   "id": "c791572f-e1d9-408f-b29c-9aaae25d8494",
   "metadata": {},
   "outputs": [],
   "source": [
    "def math_transforms(df):\n",
    "    X = pd.DataFrame()\n",
    "    X['Amount'] = df['RoomService'] + df['FoodCourt'] + df['ShoppingMall'] + \\\n",
    "        df['Spa'] + df['VRDeck']\n",
    "    return X"
   ]
  },
  {
   "cell_type": "code",
   "execution_count": 28,
   "id": "560a76f3-2753-4da4-b65f-7200fee35711",
   "metadata": {},
   "outputs": [],
   "source": [
    "def extractions(df):\n",
    "    X = pd.DataFrame()\n",
    "\n",
    "    X['GroupNumer'] = df['PassengerId'].str.slice(0, 4).astype('category')\n",
    "    X['PassengerNumber'] = df['PassengerId'].str.slice(-2).astype('category')\n",
    "    X['CabinFirstLetter'] = df['Cabin'].str.slice(0, 1).astype('category')\n",
    "    X['CabinLastLetter'] = df['Cabin'].str.slice(-1, -2, -1).astype('category')\n",
    "    return X"
   ]
  },
  {
   "cell_type": "markdown",
   "id": "ee9beb72-f897-4fce-81ec-cabf5d8cca21",
   "metadata": {},
   "source": [
    "## 3.2 Create Final Dataset"
   ]
  },
  {
   "cell_type": "code",
   "execution_count": 29,
   "id": "783e64b5-1148-4cd7-8bfd-4290a727fa1c",
   "metadata": {},
   "outputs": [],
   "source": [
    "def create_features(df, feature_target, mi_threshold, features_new_to_del, random_state=0):\n",
    "    X = df.copy()\n",
    "    X = X.join(math_transforms(X))\n",
    "    X = X.join(extractions(X))\n",
    "    X = X.drop(columns=['PassengerId', 'Cabin', 'Name'])\n",
    "    \n",
    "    return X"
   ]
  },
  {
   "cell_type": "code",
   "execution_count": 30,
   "id": "82e6ed6e-88d8-4c3b-887f-a3670fba5067",
   "metadata": {},
   "outputs": [],
   "source": [
    "mi_scores = make_mi_scores(df.drop(columns=FEATURE_TARGET), df[FEATURE_TARGET], \n",
    "                               features_bad=['PassengerId'], random_state=RANDOM_STATE)\n",
    "df_new = drop_uninformative(df, mi_scores, MI_SCORES_THRESHOLD, features_bad=['PassengerId', FEATURE_TARGET])\n",
    "\n",
    "df_new = create_features(\n",
    "    df_new, \n",
    "    FEATURE_TARGET, \n",
    "    MI_SCORES_THRESHOLD,\n",
    "    FEATURES_NEW_TO_DEL,\n",
    "    random_state=RANDOM_STATE,\n",
    ")\n",
    "\n",
    "mi_scores_new = make_mi_scores(df_new, df_new[FEATURE_TARGET], random_state=RANDOM_STATE)\n",
    "df_new = drop_uninformative(df_new, mi_scores_new, MI_SCORES_THRESHOLD)"
   ]
  },
  {
   "cell_type": "code",
   "execution_count": 31,
   "id": "728c86da-d2d4-414e-9ff5-74db8f06c1a3",
   "metadata": {},
   "outputs": [
    {
     "name": "stdout",
     "output_type": "stream",
     "text": [
      "<class 'pandas.core.frame.DataFrame'>\n",
      "RangeIndex: 8693 entries, 0 to 8692\n",
      "Data columns (total 22 columns):\n",
      " #   Column                        Non-Null Count  Dtype   \n",
      "---  ------                        --------------  -----   \n",
      " 0   Age                           8693 non-null   float64 \n",
      " 1   RoomService                   8693 non-null   float64 \n",
      " 2   FoodCourt                     8693 non-null   float64 \n",
      " 3   ShoppingMall                  8693 non-null   float64 \n",
      " 4   Spa                           8693 non-null   float64 \n",
      " 5   VRDeck                        8693 non-null   float64 \n",
      " 6   missingindicator_VRDeck       8693 non-null   category\n",
      " 7   HomePlanet                    8693 non-null   category\n",
      " 8   CryoSleep                     8693 non-null   category\n",
      " 9   Destination                   8693 non-null   category\n",
      " 10  VIP                           8693 non-null   category\n",
      " 11  missingindicator_HomePlanet   8693 non-null   category\n",
      " 12  missingindicator_CryoSleep    8693 non-null   category\n",
      " 13  missingindicator_Cabin        8693 non-null   category\n",
      " 14  missingindicator_Destination  8693 non-null   category\n",
      " 15  missingindicator_VIP          8693 non-null   category\n",
      " 16  missingindicator_Name         8693 non-null   category\n",
      " 17  Transported                   8693 non-null   bool    \n",
      " 18  Amount                        8693 non-null   float64 \n",
      " 19  GroupNumer                    8693 non-null   category\n",
      " 20  CabinFirstLetter              8693 non-null   category\n",
      " 21  CabinLastLetter               8693 non-null   category\n",
      "dtypes: bool(1), category(14), float64(7)\n",
      "memory usage: 791.0 KB\n"
     ]
    }
   ],
   "source": [
    "df_new.info()"
   ]
  },
  {
   "cell_type": "markdown",
   "id": "6a0f10ab-8b62-4bef-a3ba-51dc65b70345",
   "metadata": {},
   "source": [
    "## 3.3 Feature Engineering Report"
   ]
  },
  {
   "cell_type": "code",
   "execution_count": 32,
   "id": "4d220688-712a-40e6-880e-a91adbc9c298",
   "metadata": {},
   "outputs": [],
   "source": [
    "profiling_report = ProfileReport(df_new, title='Feature Engineering Profile Report')"
   ]
  },
  {
   "cell_type": "code",
   "execution_count": 33,
   "id": "28339777-45eb-4630-91cb-7996d5e1ce2f",
   "metadata": {},
   "outputs": [
    {
     "data": {
      "application/vnd.jupyter.widget-view+json": {
       "model_id": "3e3cb66281fc4436805f0663c5dc38c8",
       "version_major": 2,
       "version_minor": 0
      },
      "text/plain": [
       "Summarize dataset:   0%|          | 0/5 [00:00<?, ?it/s]"
      ]
     },
     "metadata": {},
     "output_type": "display_data"
    },
    {
     "data": {
      "application/vnd.jupyter.widget-view+json": {
       "model_id": "aae77bcea4a147dba17ad83dc0095b23",
       "version_major": 2,
       "version_minor": 0
      },
      "text/plain": [
       "Generate report structure:   0%|          | 0/1 [00:00<?, ?it/s]"
      ]
     },
     "metadata": {},
     "output_type": "display_data"
    },
    {
     "data": {
      "application/vnd.jupyter.widget-view+json": {
       "model_id": "9665c39da9f44c83a15f0635996d6758",
       "version_major": 2,
       "version_minor": 0
      },
      "text/plain": [
       "Render HTML:   0%|          | 0/1 [00:00<?, ?it/s]"
      ]
     },
     "metadata": {},
     "output_type": "display_data"
    },
    {
     "data": {
      "application/vnd.jupyter.widget-view+json": {
       "model_id": "1e3631e7522d46b88396f72590a71e20",
       "version_major": 2,
       "version_minor": 0
      },
      "text/plain": [
       "Export report to file:   0%|          | 0/1 [00:00<?, ?it/s]"
      ]
     },
     "metadata": {},
     "output_type": "display_data"
    }
   ],
   "source": [
    "profiling_report.to_file(REPORTS_DIR.joinpath('feature_engineering_report.html'))"
   ]
  },
  {
   "cell_type": "markdown",
   "id": "6ef673aa-d5ae-4d16-84c6-d84b2ddccfbf",
   "metadata": {},
   "source": [
    "## 3.4 Preprocessing Pipeline"
   ]
  },
  {
   "cell_type": "code",
   "execution_count": 34,
   "id": "6a832a28-674b-4b97-8a15-fd6aeb173e88",
   "metadata": {},
   "outputs": [],
   "source": [
    "def get_preprocessor(df, feature_target):\n",
    "    df = df.drop(columns=feature_target)\n",
    "    features_num = list(df.select_dtypes(('int64', 'float64')).columns)\n",
    "    features_cat_target = [feature for feature in df.select_dtypes('category').columns \\\n",
    "                           if len(df[feature].value_counts()) > 20]\n",
    "    features_cat_onehot = [feature for feature in df.select_dtypes('category').columns \\\n",
    "                           if feature not in features_cat_target]\n",
    "    assert len(features_num) + len(features_cat_target) + len(features_cat_onehot) == df.shape[1]\n",
    "    \n",
    "    num_transformer = Pipeline([\n",
    "        ('scaler', StandardScaler()),\n",
    "        ('transformer', QuantileTransformer()),\n",
    "    ])\n",
    "\n",
    "    cat_target_transformer = Pipeline([\n",
    "        ('target_encoder', TargetEncoder()),\n",
    "    ])\n",
    "\n",
    "    cat_onehot_transformer = Pipeline([\n",
    "        ('onehot_encoder', OneHotEncoder(drop='first', handle_unknown='ignore', sparse_output=False)),\n",
    "    ])\n",
    "    \n",
    "    preprocessor = ColumnTransformer([\n",
    "        ('num', num_transformer, features_num),\n",
    "        ('cat_target', cat_target_transformer, features_cat_target),\n",
    "        ('cat_onehot', cat_onehot_transformer, features_cat_onehot),\n",
    "    ])\n",
    "    return preprocessor"
   ]
  },
  {
   "cell_type": "code",
   "execution_count": 35,
   "id": "aae82f3b-70bd-4ca5-8b1a-60a08360ae24",
   "metadata": {},
   "outputs": [],
   "source": [
    "preprocessor = get_preprocessor(df_new, FEATURE_TARGET)"
   ]
  },
  {
   "cell_type": "code",
   "execution_count": 36,
   "id": "9127e1b2-2b06-44f7-a4ea-a893ef811466",
   "metadata": {},
   "outputs": [],
   "source": [
    "X = pd.DataFrame(preprocessor.fit_transform(df_new.drop(columns=FEATURE_TARGET), df_new[FEATURE_TARGET]))\n",
    "X.columns = preprocessor.get_feature_names_out()\n",
    "y = df_new[FEATURE_TARGET].astype('Int64')"
   ]
  },
  {
   "cell_type": "code",
   "execution_count": 37,
   "id": "0401f77f-e03e-474d-824c-f14594383b08",
   "metadata": {},
   "outputs": [
    {
     "data": {
      "text/html": [
       "<div>\n",
       "<style scoped>\n",
       "    .dataframe tbody tr th:only-of-type {\n",
       "        vertical-align: middle;\n",
       "    }\n",
       "\n",
       "    .dataframe tbody tr th {\n",
       "        vertical-align: top;\n",
       "    }\n",
       "\n",
       "    .dataframe thead th {\n",
       "        text-align: right;\n",
       "    }\n",
       "</style>\n",
       "<table border=\"1\" class=\"dataframe\">\n",
       "  <thead>\n",
       "    <tr style=\"text-align: right;\">\n",
       "      <th></th>\n",
       "      <th>num__Age</th>\n",
       "      <th>num__RoomService</th>\n",
       "      <th>num__FoodCourt</th>\n",
       "      <th>num__ShoppingMall</th>\n",
       "      <th>num__Spa</th>\n",
       "      <th>num__VRDeck</th>\n",
       "      <th>num__Amount</th>\n",
       "      <th>cat_target__GroupNumer</th>\n",
       "      <th>cat_onehot__missingindicator_VRDeck_1</th>\n",
       "      <th>cat_onehot__HomePlanet_Europa</th>\n",
       "      <th>...</th>\n",
       "      <th>cat_onehot__CabinFirstLetter_B</th>\n",
       "      <th>cat_onehot__CabinFirstLetter_C</th>\n",
       "      <th>cat_onehot__CabinFirstLetter_D</th>\n",
       "      <th>cat_onehot__CabinFirstLetter_E</th>\n",
       "      <th>cat_onehot__CabinFirstLetter_F</th>\n",
       "      <th>cat_onehot__CabinFirstLetter_G</th>\n",
       "      <th>cat_onehot__CabinFirstLetter_M</th>\n",
       "      <th>cat_onehot__CabinFirstLetter_T</th>\n",
       "      <th>cat_onehot__CabinLastLetter_S</th>\n",
       "      <th>cat_onehot__CabinLastLetter_g</th>\n",
       "    </tr>\n",
       "  </thead>\n",
       "  <tbody>\n",
       "    <tr>\n",
       "      <th>0</th>\n",
       "      <td>0.777277</td>\n",
       "      <td>0.000000</td>\n",
       "      <td>0.000000</td>\n",
       "      <td>0.000000</td>\n",
       "      <td>0.000000</td>\n",
       "      <td>0.000000</td>\n",
       "      <td>0.000000</td>\n",
       "      <td>0.503666</td>\n",
       "      <td>0.0</td>\n",
       "      <td>1.0</td>\n",
       "      <td>...</td>\n",
       "      <td>1.0</td>\n",
       "      <td>0.0</td>\n",
       "      <td>0.0</td>\n",
       "      <td>0.0</td>\n",
       "      <td>0.0</td>\n",
       "      <td>0.0</td>\n",
       "      <td>0.0</td>\n",
       "      <td>0.0</td>\n",
       "      <td>0.0</td>\n",
       "      <td>0.0</td>\n",
       "    </tr>\n",
       "    <tr>\n",
       "      <th>1</th>\n",
       "      <td>0.404905</td>\n",
       "      <td>0.776026</td>\n",
       "      <td>0.688188</td>\n",
       "      <td>0.744745</td>\n",
       "      <td>0.866597</td>\n",
       "      <td>0.746747</td>\n",
       "      <td>0.504505</td>\n",
       "      <td>0.503595</td>\n",
       "      <td>0.0</td>\n",
       "      <td>0.0</td>\n",
       "      <td>...</td>\n",
       "      <td>0.0</td>\n",
       "      <td>0.0</td>\n",
       "      <td>0.0</td>\n",
       "      <td>0.0</td>\n",
       "      <td>1.0</td>\n",
       "      <td>0.0</td>\n",
       "      <td>0.0</td>\n",
       "      <td>0.0</td>\n",
       "      <td>1.0</td>\n",
       "      <td>0.0</td>\n",
       "    </tr>\n",
       "    <tr>\n",
       "      <th>2</th>\n",
       "      <td>0.963964</td>\n",
       "      <td>0.744745</td>\n",
       "      <td>0.963805</td>\n",
       "      <td>0.000000</td>\n",
       "      <td>1.000000</td>\n",
       "      <td>0.749899</td>\n",
       "      <td>0.988067</td>\n",
       "      <td>0.503595</td>\n",
       "      <td>0.0</td>\n",
       "      <td>1.0</td>\n",
       "      <td>...</td>\n",
       "      <td>0.0</td>\n",
       "      <td>0.0</td>\n",
       "      <td>0.0</td>\n",
       "      <td>0.0</td>\n",
       "      <td>0.0</td>\n",
       "      <td>0.0</td>\n",
       "      <td>0.0</td>\n",
       "      <td>0.0</td>\n",
       "      <td>1.0</td>\n",
       "      <td>0.0</td>\n",
       "    </tr>\n",
       "    <tr>\n",
       "      <th>3</th>\n",
       "      <td>0.652152</td>\n",
       "      <td>0.000000</td>\n",
       "      <td>0.912844</td>\n",
       "      <td>0.863613</td>\n",
       "      <td>0.976992</td>\n",
       "      <td>0.809810</td>\n",
       "      <td>0.939809</td>\n",
       "      <td>0.503595</td>\n",
       "      <td>0.0</td>\n",
       "      <td>1.0</td>\n",
       "      <td>...</td>\n",
       "      <td>0.0</td>\n",
       "      <td>0.0</td>\n",
       "      <td>0.0</td>\n",
       "      <td>0.0</td>\n",
       "      <td>0.0</td>\n",
       "      <td>0.0</td>\n",
       "      <td>0.0</td>\n",
       "      <td>0.0</td>\n",
       "      <td>1.0</td>\n",
       "      <td>0.0</td>\n",
       "    </tr>\n",
       "    <tr>\n",
       "      <th>4</th>\n",
       "      <td>0.151151</td>\n",
       "      <td>0.824424</td>\n",
       "      <td>0.745735</td>\n",
       "      <td>0.816817</td>\n",
       "      <td>0.869870</td>\n",
       "      <td>0.665165</td>\n",
       "      <td>0.686987</td>\n",
       "      <td>0.503666</td>\n",
       "      <td>0.0</td>\n",
       "      <td>0.0</td>\n",
       "      <td>...</td>\n",
       "      <td>0.0</td>\n",
       "      <td>0.0</td>\n",
       "      <td>0.0</td>\n",
       "      <td>0.0</td>\n",
       "      <td>1.0</td>\n",
       "      <td>0.0</td>\n",
       "      <td>0.0</td>\n",
       "      <td>0.0</td>\n",
       "      <td>1.0</td>\n",
       "      <td>0.0</td>\n",
       "    </tr>\n",
       "  </tbody>\n",
       "</table>\n",
       "<p>5 rows × 35 columns</p>\n",
       "</div>"
      ],
      "text/plain": [
       "   num__Age  num__RoomService  num__FoodCourt  num__ShoppingMall  num__Spa  \\\n",
       "0  0.777277          0.000000        0.000000           0.000000  0.000000   \n",
       "1  0.404905          0.776026        0.688188           0.744745  0.866597   \n",
       "2  0.963964          0.744745        0.963805           0.000000  1.000000   \n",
       "3  0.652152          0.000000        0.912844           0.863613  0.976992   \n",
       "4  0.151151          0.824424        0.745735           0.816817  0.869870   \n",
       "\n",
       "   num__VRDeck  num__Amount  cat_target__GroupNumer  \\\n",
       "0     0.000000     0.000000                0.503666   \n",
       "1     0.746747     0.504505                0.503595   \n",
       "2     0.749899     0.988067                0.503595   \n",
       "3     0.809810     0.939809                0.503595   \n",
       "4     0.665165     0.686987                0.503666   \n",
       "\n",
       "   cat_onehot__missingindicator_VRDeck_1  cat_onehot__HomePlanet_Europa  ...  \\\n",
       "0                                    0.0                            1.0  ...   \n",
       "1                                    0.0                            0.0  ...   \n",
       "2                                    0.0                            1.0  ...   \n",
       "3                                    0.0                            1.0  ...   \n",
       "4                                    0.0                            0.0  ...   \n",
       "\n",
       "   cat_onehot__CabinFirstLetter_B  cat_onehot__CabinFirstLetter_C  \\\n",
       "0                             1.0                             0.0   \n",
       "1                             0.0                             0.0   \n",
       "2                             0.0                             0.0   \n",
       "3                             0.0                             0.0   \n",
       "4                             0.0                             0.0   \n",
       "\n",
       "   cat_onehot__CabinFirstLetter_D  cat_onehot__CabinFirstLetter_E  \\\n",
       "0                             0.0                             0.0   \n",
       "1                             0.0                             0.0   \n",
       "2                             0.0                             0.0   \n",
       "3                             0.0                             0.0   \n",
       "4                             0.0                             0.0   \n",
       "\n",
       "   cat_onehot__CabinFirstLetter_F  cat_onehot__CabinFirstLetter_G  \\\n",
       "0                             0.0                             0.0   \n",
       "1                             1.0                             0.0   \n",
       "2                             0.0                             0.0   \n",
       "3                             0.0                             0.0   \n",
       "4                             1.0                             0.0   \n",
       "\n",
       "   cat_onehot__CabinFirstLetter_M  cat_onehot__CabinFirstLetter_T  \\\n",
       "0                             0.0                             0.0   \n",
       "1                             0.0                             0.0   \n",
       "2                             0.0                             0.0   \n",
       "3                             0.0                             0.0   \n",
       "4                             0.0                             0.0   \n",
       "\n",
       "   cat_onehot__CabinLastLetter_S  cat_onehot__CabinLastLetter_g  \n",
       "0                            0.0                            0.0  \n",
       "1                            1.0                            0.0  \n",
       "2                            1.0                            0.0  \n",
       "3                            1.0                            0.0  \n",
       "4                            1.0                            0.0  \n",
       "\n",
       "[5 rows x 35 columns]"
      ]
     },
     "execution_count": 37,
     "metadata": {},
     "output_type": "execute_result"
    }
   ],
   "source": [
    "X.head()"
   ]
  },
  {
   "cell_type": "code",
   "execution_count": 38,
   "id": "f559750d-c71c-4c08-8da1-762b84d29a7a",
   "metadata": {},
   "outputs": [
    {
     "data": {
      "text/plain": [
       "0    0\n",
       "1    1\n",
       "2    0\n",
       "3    0\n",
       "4    1\n",
       "Name: Transported, dtype: Int64"
      ]
     },
     "execution_count": 38,
     "metadata": {},
     "output_type": "execute_result"
    }
   ],
   "source": [
    "y.head()"
   ]
  },
  {
   "cell_type": "markdown",
   "id": "f434170c-aa8e-4302-9081-b85568ceb61a",
   "metadata": {},
   "source": [
    "## 3.5 Train-test Split"
   ]
  },
  {
   "cell_type": "code",
   "execution_count": 39,
   "id": "bdb6dda7-7e98-4b4b-ae59-9ac950fba016",
   "metadata": {},
   "outputs": [
    {
     "data": {
      "text/plain": [
       "((6519, 35), (2174, 35), (6519,), (2174,))"
      ]
     },
     "execution_count": 39,
     "metadata": {},
     "output_type": "execute_result"
    }
   ],
   "source": [
    "X_train, X_test, y_train, y_test = train_test_split(X, y, test_size=0.25, stratify=y, random_state=RANDOM_STATE)\n",
    "X_train.shape, X_test.shape, y_train.shape, y_test.shape"
   ]
  },
  {
   "cell_type": "markdown",
   "id": "2e8d607a-374d-424a-8ad9-66ca43d5b457",
   "metadata": {},
   "source": [
    "## Задание №1 Random Forest (20 баллов)"
   ]
  },
  {
   "cell_type": "markdown",
   "id": "209768ae-2c94-414b-8d49-882b0a132582",
   "metadata": {},
   "source": [
    "Реализуйте __RandomForest__ алгоритм. В качестве базового алгоритма возьмите [DecisionTreeСlassifer](https://scikit-learn.org/stable/modules1/generated/sklearn.tree.DecisionTreeClassifier.html) из sklearn.\n",
    "\n",
    "* Сравните качество с [RandomForestClassifier](https://scikit-learn.org/stable/modules/generated/sklearn.ensemble.RandomForestClassifier.html) из sklearn на датасете SpaceShipTitanic. Различие должно быть не более **5%** по метрике **Accuracy**.\n",
    "\n",
    "* Подберите гиперпараметры для вашего алгоритма с помощью __Optuna__ (пример с семинара [тут](https://github.com/runnerup96/SBT-machine-learning-seminars/blob/main/Деревья%20и%20ансамбли/Деревья%20решений%20и%20ансамбли.ipynb)) и продемонстрируйте качество на тестовой выборке.\n",
    "\n",
    "**Если вы смогли участвовать в Kaggle соревновании, приложите скриншот в ноутбук вашего сабмита с этим алгоритмом**"
   ]
  },
  {
   "cell_type": "code",
   "execution_count": 40,
   "id": "2b57a9ab-b8b5-4539-b188-5cbf2aaef726",
   "metadata": {},
   "outputs": [],
   "source": [
    "class RandomForest:\n",
    "    def __init__(\n",
    "        self, \n",
    "        n_estimators=100, \n",
    "        criterion='gini', \n",
    "        max_depth=None, \n",
    "        min_samples_split=2, \n",
    "        min_samples_leaf=1,\n",
    "        max_features='sqrt',\n",
    "        bootstrap=True, \n",
    "    ):\n",
    "        self.n_estimators = n_estimators\n",
    "        self.criterion = criterion \n",
    "        self.max_depth = max_depth\n",
    "        self.min_samples_split = min_samples_split\n",
    "        self.min_samples_leaf = min_samples_leaf\n",
    "        self.max_features = max_features\n",
    "        self.bootstrap = bootstrap\n",
    "        self.estimators = [\n",
    "            DecisionTreeClassifier(\n",
    "                criterion=criterion, \n",
    "                max_depth=max_depth,\n",
    "                min_samples_split=min_samples_split, \n",
    "                min_samples_leaf=min_samples_leaf\n",
    "            ) for _ in range(n_estimators)\n",
    "        ]\n",
    "\n",
    "    @staticmethod\n",
    "    def __str__():\n",
    "        return f'My Random Forest()'\n",
    "\n",
    "    def __get_bootstraped_X(self, X, y, n, f):\n",
    "        if self.bootstrap:\n",
    "            row_choices = np.random.choice(X.index, size=n)\n",
    "        else:\n",
    "            row_choices = X.index\n",
    "        \n",
    "        if self.max_features == 'sqrt':\n",
    "            col_choices = np.random.choice(X.columns, size=round(np.sqrt(f)), replace=False)\n",
    "        elif self.max_features == 'log2':\n",
    "            col_choices = np.random.choice(X.columns, size=round(np.log2(f)), replace=False)\n",
    "        else:\n",
    "            col_choices = X.columns\n",
    "            \n",
    "        return X.loc[row_choices, col_choices], y.loc[row_choices]\n",
    "    \n",
    "    def fit(self, X, y):\n",
    "        n, f = X.shape\n",
    "\n",
    "        for estimator in self.estimators:\n",
    "            X_boostrapped, y_boostrapped = self.__get_bootstraped_X(X, y, n, f)\n",
    "            estimator.fit(X_boostrapped, y_boostrapped)\n",
    "    \n",
    "    def predict_proba(self, X):\n",
    "        preds = []\n",
    "        for estimator in self.estimators:\n",
    "            preds.append(estimator.predict_proba(X[estimator.feature_names_in_]))\n",
    "        return np.array(preds).mean(axis=0)\n",
    "\n",
    "    def predict(self, X):\n",
    "        preds = self.predict_proba(X)\n",
    "        \n",
    "        return np.array(np.argmax(preds, axis=1))\n",
    "\n",
    "    def get_params(self, deep=False):\n",
    "        return {\n",
    "            'n_estimators': self.n_estimators, \n",
    "            'criterion': self.criterion, \n",
    "            'max_depth': self.max_depth, \n",
    "            'min_samples_split': self.min_samples_split, \n",
    "            'min_samples_leaf': self.min_samples_leaf, \n",
    "            'max_features': self.max_features,\n",
    "            'bootstrap': self.bootstrap,\n",
    "        }"
   ]
  },
  {
   "cell_type": "code",
   "execution_count": 41,
   "id": "46dcce37-00e5-4055-836b-5761d0dbf01f",
   "metadata": {},
   "outputs": [
    {
     "name": "stdout",
     "output_type": "stream",
     "text": [
      "Cross-val f1 of my model: 0.7546\n",
      "Cross-val f1 of sklearn model: 0.7692\n"
     ]
    }
   ],
   "source": [
    "my_random_forest = RandomForest()\n",
    "sklearn_random_forest = RandomForestClassifier(random_state=RANDOM_STATE)\n",
    "\n",
    "my_random_forest_cv = cross_val_score(my_random_forest, X_train, y_train, cv=5, scoring='f1')\n",
    "sklearn_random_cv = cross_val_score(sklearn_random_forest, X_train, y_train, cv=5, scoring='f1')\n",
    "\n",
    "print(f'Cross-val f1 of my model: {my_random_forest_cv.mean():.4f}')\n",
    "print(f'Cross-val f1 of sklearn model: {sklearn_random_cv.mean():.4f}')"
   ]
  },
  {
   "cell_type": "code",
   "execution_count": 42,
   "id": "7b4d81af-a929-41a3-a83b-3a0de70e46f4",
   "metadata": {},
   "outputs": [],
   "source": [
    "def my_rf_objective(trial):\n",
    "    param = {\n",
    "        'n_estimators': trial.suggest_int('n_estimators', 10, 1000),\n",
    "        'criterion': trial.suggest_categorical('criterion', ['gini', 'entropy', 'log_loss']),\n",
    "        'max_depth': trial.suggest_int('max_depth', 10, 200),\n",
    "        'min_samples_split': trial.suggest_int('min_samples_split', 2, 20),\n",
    "        'min_samples_leaf': trial.suggest_int('min_samples_leaf', 1, 15),\n",
    "        'max_features': trial.suggest_categorical('max_features', ['sqrt', 'log2', None]),\n",
    "        'bootstrap': trial.suggest_categorical('bootstrap', [True, False]),\n",
    "    }\n",
    "\n",
    "    clf = RandomForest(\n",
    "        **param, \n",
    "    )\n",
    "    clf.fit(X_train, y_train)\n",
    "    preds = clf.predict(X_test)\n",
    "    accuracy = f1_score(y_test, preds)\n",
    "    return accuracy"
   ]
  },
  {
   "cell_type": "code",
   "execution_count": 43,
   "id": "77fbd223-dcb9-496a-9e24-7179c1a5e3ee",
   "metadata": {},
   "outputs": [
    {
     "name": "stderr",
     "output_type": "stream",
     "text": [
      "[I 2023-12-10 16:59:50,802] A new study created in memory with name: my_random_forest\n",
      "[I 2023-12-10 16:59:54,349] Trial 0 finished with value: 0.7479596735477677 and parameters: {'n_estimators': 381, 'criterion': 'gini', 'max_depth': 39, 'min_samples_split': 4, 'min_samples_leaf': 1, 'max_features': 'sqrt', 'bootstrap': False}. Best is trial 0 with value: 0.7479596735477677.\n",
      "[I 2023-12-10 17:00:00,253] Trial 1 finished with value: 0.7489072365225838 and parameters: {'n_estimators': 834, 'criterion': 'gini', 'max_depth': 68, 'min_samples_split': 11, 'min_samples_leaf': 7, 'max_features': 'log2', 'bootstrap': False}. Best is trial 1 with value: 0.7489072365225838.\n",
      "[I 2023-12-10 17:00:13,125] Trial 2 finished with value: 0.8012968967114404 and parameters: {'n_estimators': 461, 'criterion': 'gini', 'max_depth': 123, 'min_samples_split': 2, 'min_samples_leaf': 10, 'max_features': None, 'bootstrap': True}. Best is trial 2 with value: 0.8012968967114404.\n",
      "[I 2023-12-10 17:00:16,158] Trial 3 finished with value: 0.7557471264367817 and parameters: {'n_estimators': 311, 'criterion': 'entropy', 'max_depth': 33, 'min_samples_split': 11, 'min_samples_leaf': 1, 'max_features': 'sqrt', 'bootstrap': False}. Best is trial 2 with value: 0.8012968967114404.\n",
      "[I 2023-12-10 17:00:20,930] Trial 4 finished with value: 0.7496353913466213 and parameters: {'n_estimators': 551, 'criterion': 'entropy', 'max_depth': 189, 'min_samples_split': 19, 'min_samples_leaf': 9, 'max_features': 'sqrt', 'bootstrap': False}. Best is trial 2 with value: 0.8012968967114404.\n",
      "[I 2023-12-10 17:00:34,955] Trial 5 finished with value: 0.8003722661703118 and parameters: {'n_estimators': 395, 'criterion': 'entropy', 'max_depth': 63, 'min_samples_split': 12, 'min_samples_leaf': 3, 'max_features': None, 'bootstrap': True}. Best is trial 2 with value: 0.8012968967114404.\n",
      "[I 2023-12-10 17:00:35,083] Trial 6 finished with value: 0.7557216254086876 and parameters: {'n_estimators': 15, 'criterion': 'gini', 'max_depth': 157, 'min_samples_split': 3, 'min_samples_leaf': 6, 'max_features': 'log2', 'bootstrap': True}. Best is trial 2 with value: 0.8012968967114404.\n",
      "[I 2023-12-10 17:00:37,640] Trial 7 finished with value: 0.7548262548262548 and parameters: {'n_estimators': 318, 'criterion': 'entropy', 'max_depth': 179, 'min_samples_split': 10, 'min_samples_leaf': 2, 'max_features': 'log2', 'bootstrap': True}. Best is trial 2 with value: 0.8012968967114404.\n",
      "[I 2023-12-10 17:00:41,361] Trial 8 finished with value: 0.7536231884057971 and parameters: {'n_estimators': 528, 'criterion': 'gini', 'max_depth': 16, 'min_samples_split': 14, 'min_samples_leaf': 5, 'max_features': 'log2', 'bootstrap': False}. Best is trial 2 with value: 0.8012968967114404.\n",
      "[I 2023-12-10 17:00:43,281] Trial 9 finished with value: 0.7557915057915057 and parameters: {'n_estimators': 236, 'criterion': 'entropy', 'max_depth': 187, 'min_samples_split': 17, 'min_samples_leaf': 10, 'max_features': 'sqrt', 'bootstrap': True}. Best is trial 2 with value: 0.8012968967114404.\n",
      "[I 2023-12-10 17:01:09,190] Trial 10 finished with value: 0.8034974689369535 and parameters: {'n_estimators': 780, 'criterion': 'log_loss', 'max_depth': 119, 'min_samples_split': 6, 'min_samples_leaf': 14, 'max_features': None, 'bootstrap': True}. Best is trial 10 with value: 0.8034974689369535.\n",
      "[I 2023-12-10 17:01:33,425] Trial 11 finished with value: 0.8011024345429489 and parameters: {'n_estimators': 807, 'criterion': 'log_loss', 'max_depth': 120, 'min_samples_split': 6, 'min_samples_leaf': 15, 'max_features': None, 'bootstrap': True}. Best is trial 10 with value: 0.8034974689369535.\n",
      "[I 2023-12-10 17:02:02,265] Trial 12 finished with value: 0.8040571692023974 and parameters: {'n_estimators': 951, 'criterion': 'log_loss', 'max_depth': 119, 'min_samples_split': 7, 'min_samples_leaf': 13, 'max_features': None, 'bootstrap': True}. Best is trial 12 with value: 0.8040571692023974.\n",
      "[I 2023-12-10 17:02:31,693] Trial 13 finished with value: 0.8038585209003216 and parameters: {'n_estimators': 999, 'criterion': 'log_loss', 'max_depth': 88, 'min_samples_split': 8, 'min_samples_leaf': 14, 'max_features': None, 'bootstrap': True}. Best is trial 12 with value: 0.8040571692023974.\n",
      "[I 2023-12-10 17:03:03,158] Trial 14 finished with value: 0.8046082949308756 and parameters: {'n_estimators': 992, 'criterion': 'log_loss', 'max_depth': 87, 'min_samples_split': 8, 'min_samples_leaf': 13, 'max_features': None, 'bootstrap': True}. Best is trial 14 with value: 0.8046082949308756.\n"
     ]
    }
   ],
   "source": [
    "sampler = optuna.samplers.TPESampler(seed=RANDOM_STATE)\n",
    "rf_study = optuna.create_study(sampler=sampler, study_name='my_random_forest', direction='maximize')\n",
    "rf_study.optimize(my_rf_objective, n_trials=15)"
   ]
  },
  {
   "cell_type": "code",
   "execution_count": 44,
   "id": "d3f5939c-2918-453b-b695-0f353b04f2ee",
   "metadata": {},
   "outputs": [
    {
     "name": "stdout",
     "output_type": "stream",
     "text": [
      "My test sample f1: 0.8015\n",
      "Sklearn test sample f1: 0.7766\n"
     ]
    }
   ],
   "source": [
    "my_random_forest = RandomForest(**rf_study.best_params)\n",
    "sklearn_random_forest = RandomForestClassifier()\n",
    "\n",
    "my_random_forest.fit(X_train, y_train)\n",
    "sklearn_random_forest.fit(X_train, y_train)\n",
    "\n",
    "print(f'My test sample f1: {f1_score(y_test, my_random_forest.predict(X_test)):.4f}')\n",
    "print(f'Sklearn test sample f1: {f1_score(y_test, sklearn_random_forest.predict(X_test)):.4f}')"
   ]
  },
  {
   "cell_type": "markdown",
   "id": "59fff4c4-3ab8-4e96-a8ee-6ca94a6b143f",
   "metadata": {},
   "source": [
    "### Submission"
   ]
  },
  {
   "cell_type": "code",
   "execution_count": 51,
   "id": "f280e130-ae4b-4011-b98c-d9c5f71a0bbb",
   "metadata": {
    "scrolled": true
   },
   "outputs": [
    {
     "data": {
      "text/html": [
       "<div>\n",
       "<style scoped>\n",
       "    .dataframe tbody tr th:only-of-type {\n",
       "        vertical-align: middle;\n",
       "    }\n",
       "\n",
       "    .dataframe tbody tr th {\n",
       "        vertical-align: top;\n",
       "    }\n",
       "\n",
       "    .dataframe thead th {\n",
       "        text-align: right;\n",
       "    }\n",
       "</style>\n",
       "<table border=\"1\" class=\"dataframe\">\n",
       "  <thead>\n",
       "    <tr style=\"text-align: right;\">\n",
       "      <th></th>\n",
       "      <th>PassengerId</th>\n",
       "      <th>Age</th>\n",
       "      <th>RoomService</th>\n",
       "      <th>FoodCourt</th>\n",
       "      <th>ShoppingMall</th>\n",
       "      <th>Spa</th>\n",
       "      <th>VRDeck</th>\n",
       "      <th>missingindicator_Age</th>\n",
       "      <th>missingindicator_RoomService</th>\n",
       "      <th>missingindicator_FoodCourt</th>\n",
       "      <th>...</th>\n",
       "      <th>Cabin</th>\n",
       "      <th>Destination</th>\n",
       "      <th>VIP</th>\n",
       "      <th>Name</th>\n",
       "      <th>missingindicator_HomePlanet</th>\n",
       "      <th>missingindicator_CryoSleep</th>\n",
       "      <th>missingindicator_Cabin</th>\n",
       "      <th>missingindicator_Destination</th>\n",
       "      <th>missingindicator_VIP</th>\n",
       "      <th>missingindicator_Name</th>\n",
       "    </tr>\n",
       "  </thead>\n",
       "  <tbody>\n",
       "    <tr>\n",
       "      <th>0</th>\n",
       "      <td>0013_01</td>\n",
       "      <td>27.0</td>\n",
       "      <td>0.0</td>\n",
       "      <td>0.0</td>\n",
       "      <td>0.0</td>\n",
       "      <td>0.0</td>\n",
       "      <td>0.0</td>\n",
       "      <td>0</td>\n",
       "      <td>0</td>\n",
       "      <td>0.0</td>\n",
       "      <td>...</td>\n",
       "      <td>G/3/S</td>\n",
       "      <td>TRAPPIST-1e</td>\n",
       "      <td>0</td>\n",
       "      <td>Nelly Carsoning</td>\n",
       "      <td>0</td>\n",
       "      <td>0</td>\n",
       "      <td>0</td>\n",
       "      <td>0</td>\n",
       "      <td>0</td>\n",
       "      <td>0</td>\n",
       "    </tr>\n",
       "    <tr>\n",
       "      <th>1</th>\n",
       "      <td>0018_01</td>\n",
       "      <td>19.0</td>\n",
       "      <td>0.0</td>\n",
       "      <td>9.0</td>\n",
       "      <td>0.0</td>\n",
       "      <td>2823.0</td>\n",
       "      <td>0.0</td>\n",
       "      <td>0</td>\n",
       "      <td>0</td>\n",
       "      <td>0.0</td>\n",
       "      <td>...</td>\n",
       "      <td>F/4/S</td>\n",
       "      <td>TRAPPIST-1e</td>\n",
       "      <td>0</td>\n",
       "      <td>Lerome Peckers</td>\n",
       "      <td>0</td>\n",
       "      <td>0</td>\n",
       "      <td>0</td>\n",
       "      <td>0</td>\n",
       "      <td>0</td>\n",
       "      <td>0</td>\n",
       "    </tr>\n",
       "    <tr>\n",
       "      <th>2</th>\n",
       "      <td>0019_01</td>\n",
       "      <td>31.0</td>\n",
       "      <td>0.0</td>\n",
       "      <td>0.0</td>\n",
       "      <td>0.0</td>\n",
       "      <td>0.0</td>\n",
       "      <td>0.0</td>\n",
       "      <td>0</td>\n",
       "      <td>0</td>\n",
       "      <td>0.0</td>\n",
       "      <td>...</td>\n",
       "      <td>C/0/S</td>\n",
       "      <td>55 Cancri e</td>\n",
       "      <td>0</td>\n",
       "      <td>Sabih Unhearfus</td>\n",
       "      <td>0</td>\n",
       "      <td>0</td>\n",
       "      <td>0</td>\n",
       "      <td>0</td>\n",
       "      <td>0</td>\n",
       "      <td>0</td>\n",
       "    </tr>\n",
       "    <tr>\n",
       "      <th>3</th>\n",
       "      <td>0021_01</td>\n",
       "      <td>38.0</td>\n",
       "      <td>0.0</td>\n",
       "      <td>5000.0</td>\n",
       "      <td>0.0</td>\n",
       "      <td>181.0</td>\n",
       "      <td>585.0</td>\n",
       "      <td>0</td>\n",
       "      <td>0</td>\n",
       "      <td>0.0</td>\n",
       "      <td>...</td>\n",
       "      <td>C/1/S</td>\n",
       "      <td>TRAPPIST-1e</td>\n",
       "      <td>0</td>\n",
       "      <td>Meratz Caltilter</td>\n",
       "      <td>0</td>\n",
       "      <td>0</td>\n",
       "      <td>0</td>\n",
       "      <td>0</td>\n",
       "      <td>0</td>\n",
       "      <td>0</td>\n",
       "    </tr>\n",
       "    <tr>\n",
       "      <th>4</th>\n",
       "      <td>0023_01</td>\n",
       "      <td>20.0</td>\n",
       "      <td>10.0</td>\n",
       "      <td>0.0</td>\n",
       "      <td>635.0</td>\n",
       "      <td>0.0</td>\n",
       "      <td>0.0</td>\n",
       "      <td>0</td>\n",
       "      <td>0</td>\n",
       "      <td>0.0</td>\n",
       "      <td>...</td>\n",
       "      <td>F/5/S</td>\n",
       "      <td>TRAPPIST-1e</td>\n",
       "      <td>0</td>\n",
       "      <td>Brence Harperez</td>\n",
       "      <td>0</td>\n",
       "      <td>0</td>\n",
       "      <td>0</td>\n",
       "      <td>0</td>\n",
       "      <td>0</td>\n",
       "      <td>0</td>\n",
       "    </tr>\n",
       "  </tbody>\n",
       "</table>\n",
       "<p>5 rows × 25 columns</p>\n",
       "</div>"
      ],
      "text/plain": [
       "  PassengerId   Age  RoomService  FoodCourt  ShoppingMall     Spa  VRDeck  \\\n",
       "0     0013_01  27.0          0.0        0.0           0.0     0.0     0.0   \n",
       "1     0018_01  19.0          0.0        9.0           0.0  2823.0     0.0   \n",
       "2     0019_01  31.0          0.0        0.0           0.0     0.0     0.0   \n",
       "3     0021_01  38.0          0.0     5000.0           0.0   181.0   585.0   \n",
       "4     0023_01  20.0         10.0        0.0         635.0     0.0     0.0   \n",
       "\n",
       "  missingindicator_Age missingindicator_RoomService  \\\n",
       "0                    0                            0   \n",
       "1                    0                            0   \n",
       "2                    0                            0   \n",
       "3                    0                            0   \n",
       "4                    0                            0   \n",
       "\n",
       "  missingindicator_FoodCourt  ...  Cabin  Destination VIP              Name  \\\n",
       "0                        0.0  ...  G/3/S  TRAPPIST-1e   0   Nelly Carsoning   \n",
       "1                        0.0  ...  F/4/S  TRAPPIST-1e   0    Lerome Peckers   \n",
       "2                        0.0  ...  C/0/S  55 Cancri e   0   Sabih Unhearfus   \n",
       "3                        0.0  ...  C/1/S  TRAPPIST-1e   0  Meratz Caltilter   \n",
       "4                        0.0  ...  F/5/S  TRAPPIST-1e   0   Brence Harperez   \n",
       "\n",
       "  missingindicator_HomePlanet missingindicator_CryoSleep  \\\n",
       "0                           0                          0   \n",
       "1                           0                          0   \n",
       "2                           0                          0   \n",
       "3                           0                          0   \n",
       "4                           0                          0   \n",
       "\n",
       "  missingindicator_Cabin missingindicator_Destination missingindicator_VIP  \\\n",
       "0                      0                            0                    0   \n",
       "1                      0                            0                    0   \n",
       "2                      0                            0                    0   \n",
       "3                      0                            0                    0   \n",
       "4                      0                            0                    0   \n",
       "\n",
       "  missingindicator_Name  \n",
       "0                     0  \n",
       "1                     0  \n",
       "2                     0  \n",
       "3                     0  \n",
       "4                     0  \n",
       "\n",
       "[5 rows x 25 columns]"
      ]
     },
     "execution_count": 51,
     "metadata": {},
     "output_type": "execute_result"
    }
   ],
   "source": [
    "df_test = load_data(TEST_PATH, FEATURES_WITH_NUM_NA, FEATURES_WITH_CAT_NA, FEATURE_OUTLIER_THRESHOLDS, FEATURES_CAT)\n",
    "df_test.head()"
   ]
  },
  {
   "cell_type": "code",
   "execution_count": 52,
   "id": "8e384574-dccd-42a7-9ac0-07d512a6b8fc",
   "metadata": {},
   "outputs": [],
   "source": [
    "df_test_new = drop_uninformative(df_test, mi_scores, MI_SCORES_THRESHOLD, features_bad=['PassengerId'])\n",
    "\n",
    "df_test_new = create_features(\n",
    "    df_test_new, \n",
    "    FEATURE_TARGET, \n",
    "    MI_SCORES_THRESHOLD,\n",
    "    FEATURES_NEW_TO_DEL,\n",
    "    random_state=RANDOM_STATE,\n",
    ")\n",
    "\n",
    "df_test_new = drop_uninformative(df_test_new, mi_scores_new, MI_SCORES_THRESHOLD)"
   ]
  },
  {
   "cell_type": "code",
   "execution_count": 53,
   "id": "112a9a71-3d27-439f-a911-e6f3a0546e09",
   "metadata": {},
   "outputs": [],
   "source": [
    "X_submission = pd.DataFrame(preprocessor.transform(df_test_new))\n",
    "X_submission.columns = preprocessor.get_feature_names_out()"
   ]
  },
  {
   "cell_type": "code",
   "execution_count": 54,
   "id": "14d50c2b-71cf-41f9-b5e4-87d63e19c348",
   "metadata": {},
   "outputs": [],
   "source": [
    "submission_1 = pd.DataFrame({\n",
    "    'PassengerID': df_test['PassengerId'], \n",
    "    'Transported': my_random_forest.predict(X_submission).astype('bool')})"
   ]
  },
  {
   "cell_type": "code",
   "execution_count": 55,
   "id": "76ba0027-4b16-4627-8b3a-a27e38c0851e",
   "metadata": {},
   "outputs": [],
   "source": [
    "submission_1.to_csv(SUBMISSIONS_PATH.joinpath('submission_1.csv'), index=False)"
   ]
  },
  {
   "cell_type": "code",
   "execution_count": 56,
   "id": "01b2b7d9-aa2b-4aba-9de0-48bf4343d951",
   "metadata": {},
   "outputs": [
    {
     "data": {
      "image/png": "[encoded data removed]",
      "text/plain": [
       "<PIL.PngImagePlugin.PngImageFile image mode=RGBA size=758x195>"
      ]
     },
     "metadata": {},
     "output_type": "display_data"
    }
   ],
   "source": [
    "img_submission_1 = Image.open(REPORTS_DIR.joinpath('submission_1.png'))\n",
    "display(img_submission_1)"
   ]
  },
  {
   "cell_type": "markdown",
   "id": "16ce673c-8699-4040-9622-07d85fa64e37",
   "metadata": {},
   "source": [
    "## Задание №2 Stacking (15 баллов)"
   ]
  },
  {
   "cell_type": "markdown",
   "id": "b6c50d29-b19f-43d8-8f62-e79479856c04",
   "metadata": {},
   "source": [
    "Реализуйте стекинг(методом, представленном на лекции) над 3-5 алгоритмами (сами алгоритмы реализовывать не надо, брать готовые реализации). Продемонстрируйте качество вашей реализации: покажите метрики базовых моделей и ансамбля на тестовой выборке. Если в качестве метамодели вы используете логрег, выведите веса признаков каждой модели. Подбор гиперпараметров для ваших алгоритмов на ваше усмотрение. \n",
    "\n",
    "**Если вы смогли участвовать в Kaggle соревновании, приложите скриншот вашего сабмита с этим алгоритмом**"
   ]
  },
  {
   "cell_type": "code",
   "execution_count": 57,
   "id": "7260383a-78fa-45cf-90cd-bb69412f30d7",
   "metadata": {},
   "outputs": [],
   "source": [
    "class Stacking:\n",
    "    def __init__(self, estimators, final_estimator, n_splits=5, test_size=0.25, random_state=None):\n",
    "        self.estimators = estimators\n",
    "        self.final_estimator = final_estimator\n",
    "        self.n_splits = n_splits\n",
    "        self.test_size = test_size\n",
    "        self.random_state = random_state\n",
    "\n",
    "    def fit(self, X, y):\n",
    "        estimator_preds = np.zeros((X.shape[0], len(self.estimators)))\n",
    "        skf = StratifiedKFold(n_splits=self.n_splits, random_state=self.random_state)\n",
    "\n",
    "        for i, estimator in enumerate(estimators):\n",
    "            for train_idxs, test_idxs in skf.split(X, y):\n",
    "                estimator.fit(X.iloc[train_idxs], y.iloc[train_idxs])\n",
    "                estimator_preds[test_idxs, i] = estimator.predict_proba(X.iloc[test_idxs])[:, 0]\n",
    "\n",
    "        self.final_estimator.fit(estimator_preds, y)\n",
    "\n",
    "    def __predict_proba_estimators(self, X):\n",
    "        preds = []\n",
    "        for estimator in self.estimators:\n",
    "            preds.append(estimator.predict_proba(X))\n",
    "        return np.array(preds)[:, :, 0].T\n",
    "\n",
    "    def predict_proba(self, X):\n",
    "        estimator_preds = self.__predict_proba_estimators(X)\n",
    "        return self.final_estimator.predict_proba(estimator_preds)\n",
    "    \n",
    "    def predict(self, X):\n",
    "        preds = self.predict_proba(X)\n",
    "        return np.argmax(preds, axis=1)\n",
    "\n",
    "    def get_params(self, deep=False):\n",
    "        return {\n",
    "            'estimators': self.estimators, \n",
    "            'final_estimator': self.final_estimator,\n",
    "        }"
   ]
  },
  {
   "cell_type": "code",
   "execution_count": 58,
   "id": "147b6e2a-decf-41ce-a445-37aee04b54d0",
   "metadata": {},
   "outputs": [],
   "source": [
    "estimators = [\n",
    "    XGBClassifier(),\n",
    "    LogisticRegression(),\n",
    "    MultinomialNB(),\n",
    "    SVC(kernel='poly', probability=True),\n",
    "    SVC(kernel='rbf', probability=True),\n",
    "    RandomForest(**rf_study.best_params),\n",
    "    RandomForestClassifier(),\n",
    "]"
   ]
  },
  {
   "cell_type": "code",
   "execution_count": 59,
   "id": "1b740fcc-8ba7-4209-93dd-6c06f1709599",
   "metadata": {},
   "outputs": [
    {
     "name": "stderr",
     "output_type": "stream",
     "text": [
      "100%|█████████████████████████████████████████████| 7/7 [00:42<00:00,  6.12s/it]\n"
     ]
    },
    {
     "name": "stdout",
     "output_type": "stream",
     "text": [
      "XGBClassifier(base_score=None, booster=None, callbacks=None,\n",
      "              colsample_bylevel=None, colsample_bynode=None,\n",
      "              colsample_bytree=None, device=None, early_stopping_rounds=None,\n",
      "              enable_categorical=False, eval_metric=None, feature_types=None,\n",
      "              gamma=None, grow_policy=None, importance_type=None,\n",
      "              interaction_constraints=None, learning_rate=None, max_bin=None,\n",
      "              max_cat_threshold=None, max_cat_to_onehot=None,\n",
      "              max_delta_step=None, max_depth=None, max_leaves=None,\n",
      "              min_child_weight=None, missing=nan, monotone_constraints=None,\n",
      "              multi_strategy=None, n_estimators=None, n_jobs=None,\n",
      "              num_parallel_tree=None, random_state=None, ...) test sample f1: 0.8036\n",
      "LogisticRegression() test sample f1: 0.7561\n",
      "MultinomialNB() test sample f1: 0.7160\n",
      "SVC(kernel='poly', probability=True) test sample f1: 0.7771\n",
      "SVC(probability=True) test sample f1: 0.7545\n",
      "My Random Forest() test sample f1: 0.8015\n",
      "RandomForestClassifier() test sample f1: 0.7798\n"
     ]
    }
   ],
   "source": [
    "for estimator in tqdm(estimators):\n",
    "    estimator.fit(X_train, y_train)\n",
    "\n",
    "for estimator in estimators:\n",
    "    print(f'{str(estimator)} test sample f1: {f1_score(y_test, estimator.predict(X_test)):.4f}')"
   ]
  },
  {
   "cell_type": "code",
   "execution_count": 60,
   "id": "2e895ec3-ab2e-4075-bdc9-bd3769d26861",
   "metadata": {},
   "outputs": [
    {
     "name": "stdout",
     "output_type": "stream",
     "text": [
      "My stacking test sample f1: 0.8682\n"
     ]
    }
   ],
   "source": [
    "my_stacking = Stacking(estimators, LogisticRegression(max_iter=1000))\n",
    "my_stacking.fit(X, y)\n",
    "\n",
    "print(f'My stacking test sample f1: {f1_score(y_test, my_stacking.predict(X_test)):.4f}')"
   ]
  },
  {
   "cell_type": "code",
   "execution_count": 61,
   "id": "923714f5-568e-46d1-b372-20db752218a3",
   "metadata": {},
   "outputs": [
    {
     "name": "stdout",
     "output_type": "stream",
     "text": [
      "Meta-model coeffs:\n",
      "\n",
      "XGBClassifier(base_score=None, booster=None, callbacks=None,\n",
      "              colsample_bylevel=None, colsample_bynode=None,\n",
      "              colsample_bytree=None, device=None, early_stopping_rounds=None,\n",
      "              enable_categorical=False, eval_metric=None, feature_types=None,\n",
      "              gamma=None, grow_policy=None, importance_type=None,\n",
      "              interaction_constraints=None, learning_rate=None, max_bin=None,\n",
      "              max_cat_threshold=None, max_cat_to_onehot=None,\n",
      "              max_delta_step=None, max_depth=None, max_leaves=None,\n",
      "              min_child_weight=None, missing=nan, monotone_constraints=None,\n",
      "              multi_strategy=None, n_estimators=None, n_jobs=None,\n",
      "              num_parallel_tree=None, random_state=None, ...): -1.496772120964836\n",
      "LogisticRegression(): -0.7458161891449306\n",
      "MultinomialNB(): 0.3261396194726994\n",
      "SVC(kernel='poly', probability=True): -1.3751959765397783\n",
      "SVC(probability=True): 0.574824013332085\n",
      "My Random Forest(): -3.1151118622175646\n",
      "RandomForestClassifier(): 0.25381469276662316\n"
     ]
    }
   ],
   "source": [
    "print('Meta-model coeffs:\\n')\n",
    "for algorthm, coef in zip(estimators, my_stacking.final_estimator.coef_[0]):\n",
    "    print(f'{str(algorthm)}: {coef}')"
   ]
  },
  {
   "cell_type": "markdown",
   "id": "8d5e54e4-c163-4c89-ac7c-0718805c8ce6",
   "metadata": {},
   "source": [
    "### Submission"
   ]
  },
  {
   "cell_type": "code",
   "execution_count": 62,
   "id": "b40fd79c-40e8-46a1-aefc-ee664c4af9b2",
   "metadata": {},
   "outputs": [],
   "source": [
    "submission_2 = pd.DataFrame({\n",
    "    'PassengerID': df_test['PassengerId'], \n",
    "    'Transported': my_stacking.predict(X_submission).astype('bool')})"
   ]
  },
  {
   "cell_type": "code",
   "execution_count": 63,
   "id": "41136283-416b-42c1-99a4-d5bbaadf011c",
   "metadata": {},
   "outputs": [],
   "source": [
    "submission_2.to_csv(SUBMISSIONS_PATH.joinpath('submission_2.csv'), index=False)"
   ]
  },
  {
   "cell_type": "code",
   "execution_count": 65,
   "id": "fa922474-1be3-4210-9503-bee86e155aeb",
   "metadata": {},
   "outputs": [
    {
     "data": {
      "image/png": "[encoded data removed]",
      "text/plain": [
       "<PIL.PngImagePlugin.PngImageFile image mode=RGBA size=758x195>"
      ]
     },
     "metadata": {},
     "output_type": "display_data"
    }
   ],
   "source": [
    "img_submission_2 = Image.open(REPORTS_DIR.joinpath('submission_2.png'))\n",
    "display(img_submission_2)"
   ]
  },
  {
   "cell_type": "markdown",
   "id": "a8b36838-20f2-4c9d-9fb6-6f33e74f2d26",
   "metadata": {},
   "source": [
    "## Задание №3 Blending (15 баллов)"
   ]
  },
  {
   "cell_type": "markdown",
   "id": "50ffeb2e-7822-45aa-9d4e-54a0087588e3",
   "metadata": {},
   "source": [
    "Реализуйте блендинг(методом, представленном на лекции) с несколькими алгоритмами на ваш выбор. Продемонстрируйте качество вашей реализации: покажите метрики базовых моделей и ансамбля на тестовой выборке. Если в качестве метамодели вы используете логрег, выведите веса. Подбор гиперпараметров для ваших алгоритмов на ваше усмотрение. \n",
    "\n",
    "**Если вы смогли участвовать в Kaggle соревновании, приложите скриншот вашего сабмита с этим алгоритмом**"
   ]
  },
  {
   "cell_type": "code",
   "execution_count": 66,
   "id": "3976672f-6b48-48dd-bdbe-48d4438da107",
   "metadata": {},
   "outputs": [],
   "source": [
    "class Blending:\n",
    "    def __init__(self, estimators, final_estimator, test_size=0.25, random_state=None):\n",
    "        \"\"\"\n",
    "        estimators : list\n",
    "            Список базовых моделей\n",
    "        final_estimator:\n",
    "            Метамодель для финального предсказания\n",
    "        \"\"\"\n",
    "        self.estimators = estimators\n",
    "        self.final_estimator = final_estimator\n",
    "        self.test_size = test_size\n",
    "        self.random_state = random_state\n",
    "\n",
    "    def __predict_proba_estimators(self, X):\n",
    "        preds = []\n",
    "        for estimator in self.estimators:\n",
    "            preds.append(estimator.predict_proba(X))\n",
    "        return np.array(preds)[:, :, 0].T\n",
    "    \n",
    "    def fit(self, X, y):\n",
    "        X_train, X_test, y_train, y_test = train_test_split(X, y, test_size=self.test_size, random_state=self.random_state)\n",
    "        estimator_preds = np.zeros((X_test.shape[0], len(self.estimators)))\n",
    "\n",
    "        for i, estimator in enumerate(self.estimators):\n",
    "            estimator.fit(X_train, y_train)\n",
    "            estimator_preds[:, i] = estimator.predict_proba(X_test)[:, 0]\n",
    "        \n",
    "        self.final_estimator.fit(estimator_preds, y_test)\n",
    "\n",
    "    def predict_proba(self, X):\n",
    "        estimator_preds = self.__predict_proba_estimators(X)\n",
    "        return self.final_estimator.predict_proba(estimator_preds)\n",
    "    \n",
    "    def predict(self, X):\n",
    "        preds = self.predict_proba(X)\n",
    "        return np.argmax(preds, axis=1)"
   ]
  },
  {
   "cell_type": "code",
   "execution_count": 67,
   "id": "cc6ca519-ceda-48f1-a4b1-06db53b49f1f",
   "metadata": {},
   "outputs": [],
   "source": [
    "estimators = [\n",
    "    XGBClassifier(),\n",
    "    LogisticRegression(),\n",
    "    MultinomialNB(),\n",
    "]"
   ]
  },
  {
   "cell_type": "code",
   "execution_count": 68,
   "id": "1d3277da-9816-42aa-83a5-7a83a5751d9f",
   "metadata": {},
   "outputs": [
    {
     "name": "stderr",
     "output_type": "stream",
     "text": [
      "100%|█████████████████████████████████████████████| 3/3 [00:00<00:00,  5.88it/s]"
     ]
    },
    {
     "name": "stdout",
     "output_type": "stream",
     "text": [
      "XGBClassifier(base_score=None, booster=None, callbacks=None,\n",
      "              colsample_bylevel=None, colsample_bynode=None,\n",
      "              colsample_bytree=None, device=None, early_stopping_rounds=None,\n",
      "              enable_categorical=False, eval_metric=None, feature_types=None,\n",
      "              gamma=None, grow_policy=None, importance_type=None,\n",
      "              interaction_constraints=None, learning_rate=None, max_bin=None,\n",
      "              max_cat_threshold=None, max_cat_to_onehot=None,\n",
      "              max_delta_step=None, max_depth=None, max_leaves=None,\n",
      "              min_child_weight=None, missing=nan, monotone_constraints=None,\n",
      "              multi_strategy=None, n_estimators=None, n_jobs=None,\n",
      "              num_parallel_tree=None, random_state=None, ...) test sample f1: 0.8036\n",
      "LogisticRegression() test sample f1: 0.7561\n",
      "MultinomialNB() test sample f1: 0.7160\n"
     ]
    },
    {
     "name": "stderr",
     "output_type": "stream",
     "text": [
      "\n"
     ]
    }
   ],
   "source": [
    "for estimator in tqdm(estimators):\n",
    "    estimator.fit(X_train, y_train)\n",
    "\n",
    "for estimator in estimators:\n",
    "    print(f'{str(estimator)} test sample f1: {f1_score(y_test, estimator.predict(X_test)):.4f}')"
   ]
  },
  {
   "cell_type": "code",
   "execution_count": 69,
   "id": "95bb514b-7093-4a43-ac1f-aecac69bfe13",
   "metadata": {},
   "outputs": [
    {
     "name": "stdout",
     "output_type": "stream",
     "text": [
      "My blending test sample f1: 0.8682\n"
     ]
    }
   ],
   "source": [
    "my_blending = Blending(estimators, LogisticRegression(max_iter=1000))\n",
    "my_blending.fit(X, y)\n",
    "\n",
    "print(f'My blending test sample f1: {f1_score(y_test, my_stacking.predict(X_test)):.4f}')"
   ]
  },
  {
   "cell_type": "code",
   "execution_count": 70,
   "id": "f8304b33-f44e-4cf7-95fc-fde35bf2382a",
   "metadata": {},
   "outputs": [
    {
     "name": "stdout",
     "output_type": "stream",
     "text": [
      "Meta-model coeffs:\n",
      "\n",
      "XGBClassifier(base_score=None, booster=None, callbacks=None,\n",
      "              colsample_bylevel=None, colsample_bynode=None,\n",
      "              colsample_bytree=None, device=None, early_stopping_rounds=None,\n",
      "              enable_categorical=False, eval_metric=None, feature_types=None,\n",
      "              gamma=None, grow_policy=None, importance_type=None,\n",
      "              interaction_constraints=None, learning_rate=None, max_bin=None,\n",
      "              max_cat_threshold=None, max_cat_to_onehot=None,\n",
      "              max_delta_step=None, max_depth=None, max_leaves=None,\n",
      "              min_child_weight=None, missing=nan, monotone_constraints=None,\n",
      "              multi_strategy=None, n_estimators=None, n_jobs=None,\n",
      "              num_parallel_tree=None, random_state=None, ...): -4.117826343369121\n",
      "LogisticRegression(): -1.6259726136758121\n",
      "MultinomialNB(): 0.30297857115947024\n"
     ]
    }
   ],
   "source": [
    "print('Meta-model coeffs:\\n')\n",
    "for algorthm, coef in zip(estimators, my_blending.final_estimator.coef_[0]):\n",
    "    print(f'{str(algorthm)}: {coef}')"
   ]
  },
  {
   "cell_type": "markdown",
   "id": "589726cc-8baf-4f03-af36-2625083a46b2",
   "metadata": {},
   "source": [
    "### Submission"
   ]
  },
  {
   "cell_type": "code",
   "execution_count": 71,
   "id": "0a4027ae-bcd7-48b9-86c6-365178f7bc21",
   "metadata": {},
   "outputs": [],
   "source": [
    "submission_3 = pd.DataFrame({\n",
    "    'PassengerID': df_test['PassengerId'], \n",
    "    'Transported': my_blending.predict(X_submission).astype('bool')})"
   ]
  },
  {
   "cell_type": "code",
   "execution_count": 72,
   "id": "874b8d7a-1151-4924-b9be-ed72b9380c7f",
   "metadata": {},
   "outputs": [],
   "source": [
    "submission_3.to_csv(SUBMISSIONS_PATH.joinpath('submission_3.csv'), index=False)"
   ]
  },
  {
   "cell_type": "code",
   "execution_count": 73,
   "id": "d0b61074-0bf4-46e6-bd9d-9bbe776f8b8d",
   "metadata": {},
   "outputs": [
    {
     "data": {
      "image/png": "[encoded data removed]",
      "text/plain": [
       "<PIL.PngImagePlugin.PngImageFile image mode=RGBA size=758x195>"
      ]
     },
     "metadata": {},
     "output_type": "display_data"
    }
   ],
   "source": [
    "img_submission_3 = Image.open(REPORTS_DIR.joinpath('submission_3.png'))\n",
    "display(img_submission_3)"
   ]
  }
 ],
 "metadata": {
  "kernelspec": {
   "display_name": "Python 3 (ipykernel)",
   "language": "python",
   "name": "python3"
  },
  "language_info": {
   "codemirror_mode": {
    "name": "ipython",
    "version": 3
   },
   "file_extension": ".py",
   "mimetype": "text/x-python",
   "name": "python",
   "nbconvert_exporter": "python",
   "pygments_lexer": "ipython3",
   "version": "3.11.5"
  }
 },
 "nbformat": 4,
 "nbformat_minor": 5
}
